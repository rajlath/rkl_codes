{
 "cells": [
  {
   "cell_type": "code",
   "execution_count": null,
   "metadata": {
    "collapsed": true
   },
   "outputs": [],
   "source": [
    "with open(input(), 'r') as cef:\n",
    "    lines = cef.read().strip().splitlines()\n",
    "    for line in lines:\n",
    "        currLine = sorted(line.split(\" \"), key=len)[-1].strip()\n",
    "        outs = []\n",
    "        for x in range(len(currLine)):\n",
    "            outs.append('*' * x + currLine[x])\n",
    "        print(\" \".join(outs))    \n",
    "    \n",
    "    "
   ]
  },
  {
   "cell_type": "code",
   "execution_count": null,
   "metadata": {
    "collapsed": true
   },
   "outputs": [],
   "source": [
    "import sys\n",
    "right =  '>>-->' \n",
    "left  =  '<--<<'\n",
    "with open(input(), 'r') as cef:\n",
    "    lines = cef.read().strip().splitlines()\n",
    "for line in lines:\n",
    "    \n",
    "    cnt = 0\n",
    "    for i in range(len(line) - 4):\n",
    "        if line[i] in ['<', '>']:\n",
    "            curr = line[i:i+5] \n",
    "            \n",
    "            if curr in [left, right]:\n",
    "                cnt += 1\n",
    "              \n",
    "    print(cnt)                \n",
    "               \n",
    "    \n",
    "    \n",
    "    "
   ]
  },
  {
   "cell_type": "code",
   "execution_count": null,
   "metadata": {
    "collapsed": true
   },
   "outputs": [],
   "source": [
    "import sys\n",
    "\n",
    "import re\n",
    "def getWords(text):\n",
    "    return re.compile('[a-zA-Z]+').findall(text)\n",
    "\n",
    "with open(input(), 'r') as cef:\n",
    "    lines = cef.read().strip().splitlines()\n",
    "for line in lines:\n",
    "     print(re.sub(r'[^A-Za-z]+', ' ', line).strip().lower())\n",
    "    \n",
    "            "
   ]
  },
  {
   "cell_type": "code",
   "execution_count": null,
   "metadata": {
    "collapsed": true
   },
   "outputs": [],
   "source": [
    "import sys\n",
    "\n",
    "with open(input()) as cef:\n",
    "    lines = cef.read().strip().splitlines()\n",
    "\n",
    "for line in lines:\n",
    "    split = [i.split() for i in line.split('|')]\n",
    "    cols = zip(*split)   \n",
    "    maxes = [max(int(j) for j in i) for i in cols]  \n",
    "    out = ' '.join(str(i) for i in maxes)\n",
    "    print(out)\n",
    "\n"
   ]
  },
  {
   "cell_type": "code",
   "execution_count": null,
   "metadata": {
    "collapsed": true
   },
   "outputs": [],
   "source": [
    "import sys\n",
    "\n",
    "with open(input()) as f:\n",
    "    lines = f.read().strip().splitlines()\n",
    "\n",
    "for line in lines:\n",
    "    numz, rng = [int(i) for i in line.split()]\n",
    "    cnt = 0\n",
    "    for i in range(1, rng + 1):\n",
    "        cnt += bin(i)[2:].count(\"0\") == numz\n",
    "    print(cnt)\n",
    "   "
   ]
  },
  {
   "cell_type": "code",
   "execution_count": null,
   "metadata": {
    "collapsed": true
   },
   "outputs": [],
   "source": [
    "\n",
    "x = ['.*?'.join(i) for i in permutations(\"ann\")]\n",
    "print(x)\n",
    "                                        "
   ]
  },
  {
   "cell_type": "code",
   "execution_count": null,
   "metadata": {
    "collapsed": true
   },
   "outputs": [],
   "source": [
    "print( \"R\" * 3)"
   ]
  },
  {
   "cell_type": "code",
   "execution_count": null,
   "metadata": {
    "collapsed": true
   },
   "outputs": [],
   "source": [
    "for i in range(9):\n",
    "    print(bin(i)[2:])"
   ]
  },
  {
   "cell_type": "code",
   "execution_count": null,
   "metadata": {
    "collapsed": true
   },
   "outputs": [],
   "source": [
    "import re\n",
    "with open(input()) as cif:\n",
    "    lines = cif.read().strip().splitlines()\n",
    "    \n",
    "def distSq(ax,ay,bx,by):    \n",
    "    \n",
    "    return (ax - bx) * (ax - bx) + (ay - by) * (ay - by)\n",
    "\n",
    "    \n",
    "for line in lines:\n",
    "    values = (re.sub(\"[() ]\",\"\",line)).split(\",\")\n",
    "    p1x, p1y, p2x, p2y, p3x, p3y, p4x, p4y  = [int(x) for x in values]\n",
    "    d2 = distSq(p1x,p1y, p2x,p2y)\n",
    "    d3 = distSq(p1x,p1y, p3x,p3y)\n",
    "    d4 = distSq(p1x,p1y, p4x,p4y)\n",
    "    res = False\n",
    "    if d2 == d3 and  2 * d2 == d4:\n",
    "        d = distSq(p2x,p2y, p4x,p4y)\n",
    "        res =  d == distSq(p3x,p3y, p4x,p4y) and  d == d2\n",
    "    \n",
    "    if d3 == d4 and  2*d3 == d2:\n",
    "        d = distSq(p2x, p2y, p3x, p3y)\n",
    "        res =  d == distSq(p2x,p2y, p4x,p4y) and  d == d3\n",
    "    \n",
    "    if d2 == d4 and 2*d2 == d3:\n",
    "        d = distSq(p2x, p2y, p3x, p3y)\n",
    "        res = d == distSq(p3x, p3y, p4x, p4y) and d == d2\n",
    "    print(\"true\" if res==True else \"False\")    \n",
    "    "
   ]
  },
  {
   "cell_type": "code",
   "execution_count": null,
   "metadata": {
    "collapsed": true
   },
   "outputs": [],
   "source": [
    "from itertools import permutations, product\n",
    "from sys import argv\n",
    "for op in product(\"+-*\", repeat=4):\n",
    "    pass\n",
    "for ep in permutations([11,12,13,14])    :\n",
    "    print(ep)"
   ]
  },
  {
   "cell_type": "code",
   "execution_count": null,
   "metadata": {
    "collapsed": true
   },
   "outputs": [],
   "source": [
    "import sys\n",
    " \n",
    "with open(input(), 'r') as ins:\n",
    "    for line in ins:\n",
    "        values = [int(e.split(\":\")[1])  for e in line.split(\",\")]\n",
    "        collection = sum( values[-1] * cnt * amt for cnt, amt in zip(values[:-1], [3, 4, 5]))\n",
    "        print(collection // sum(values[:-1]))\n"
   ]
  },
  {
   "cell_type": "code",
   "execution_count": null,
   "metadata": {
    "collapsed": true
   },
   "outputs": [],
   "source": [
    "import sys\n",
    "\n",
    "with open(input(), 'r') as ins:\n",
    "    for line in ins:\n",
    "        players, blackspot = line.split(\"|\")\n",
    "        players = players.strip().split(\" \")\n",
    "        \n",
    "        blackspot = int(blackspot)\n",
    "        plycnt = len(players)\n",
    "        while plycnt > 1:\n",
    "            condemned,plycnt = blackspot % plycnt - 1, plycnt - 1 \n",
    "            players = players[:condemned] + players[condemned+1:]\n",
    "        print(players[0])    \n",
    "            \n",
    "        "
   ]
  },
  {
   "cell_type": "code",
   "execution_count": null,
   "metadata": {
    "collapsed": true
   },
   "outputs": [],
   "source": [
    "import sys\n",
    "level = {0:\"Done\"}\n",
    "for i in range(1, 7):\n",
    "    if i in [1,2]:\n",
    "        level[i] = \"Low\"\n",
    "    if i in [3,4]:\n",
    "        level[i] = \"Medium\"\n",
    "    if i in [5,6]:\n",
    "        level[i] = \"High\"\n",
    "    \n",
    "        \n",
    "           \n",
    "with open(input()  ,'r') as ins:\n",
    "    for line in ins:\n",
    "        src, tgt = [e.strip() for e in line.strip().split(\"|\")]\n",
    "        bugs = sum([a != b for a, b in zip(src, tgt)])        \n",
    "        print(\"Critical\" if bugs > 6 else level[bugs])"
   ]
  },
  {
   "cell_type": "code",
   "execution_count": null,
   "metadata": {
    "collapsed": true
   },
   "outputs": [],
   "source": [
    "import sys\n",
    "with open(input(), 'r') as ins:\n",
    "    for line in ins:\n",
    "        cardno = \"\".join(x for x in line.strip().split(\" \"))\n",
    "        cardsum = 0\n",
    "        cardsum += int(cardno[0])*2\n",
    "        for i in range(1, len(cardno)):\n",
    "            if i % 2 == 0:\n",
    "                cardsum += int(cardno[i]) * 2\n",
    "            else:\n",
    "                cardsum += int(cardno[i])\n",
    "              \n",
    "        print(\"Real\" if cardsum%10==0 else \"Fake\")        "
   ]
  },
  {
   "cell_type": "code",
   "execution_count": null,
   "metadata": {
    "collapsed": true
   },
   "outputs": [],
   "source": [
    "import sys\n",
    "from collections import defaultdict\n",
    "with open(input(), 'r') as ins:\n",
    "    for line in ins:\n",
    "        teams = line.strip().split(\"|\")\n",
    "        dd = defaultdict(list)\n",
    "        for k, v in enumerate(teams, start=1):\n",
    "            for n in map(int, v.split()):\n",
    "                dd[n].append(str(k))\n",
    "            \n",
    "        print(\" \".join(\"{}:{};\".format(k, \",\".join(dd[k])) for k in sorted(dd.keys())))    \n",
    "            \n",
    "        "
   ]
  },
  {
   "cell_type": "code",
   "execution_count": null,
   "metadata": {
    "collapsed": true
   },
   "outputs": [],
   "source": [
    "import sys\n",
    "with open(input(), 'r') as cef:\n",
    "    for line in cef:\n",
    "        v, a = line.strip().split(\"|\")\n",
    "        v = sum([int(i,16) for i in v.split(\" \") if i != \"\"])\n",
    "        a = sum([int(i, 2) for i in a.split(\" \") if i != \"\"])\n",
    "        if v == a or a > v:\n",
    "            print(\"True\")\n",
    "        else:\n",
    "            print(\"False\")\n",
    "        \n",
    "       "
   ]
  },
  {
   "cell_type": "code",
   "execution_count": null,
   "metadata": {
    "collapsed": true
   },
   "outputs": [],
   "source": [
    "import sys\n",
    "primes = [3, 7, 31, 127, 2047]\n",
    "with open(input(), 'r') as cef:\n",
    "    for line in cef:\n",
    "        last = int(line.strip())\n",
    "        print(\", \".join(str(e) for e in primes if e < last))    \n"
   ]
  },
  {
   "cell_type": "code",
   "execution_count": null,
   "metadata": {
    "collapsed": true
   },
   "outputs": [],
   "source": [
    "import sys\n",
    "\n",
    "\n",
    "def step(ls):\n",
    "    for i, (a, b) in enumerate(zip(ls, ls[1:])):\n",
    "        if a > b:\n",
    "            ls[i], ls[i+1] = b, a\n",
    "            return\n",
    "\n",
    "\n",
    "def my_sort(ls, n):\n",
    "    while n > 0:\n",
    "        step(ls)\n",
    "        n -= 1\n",
    "    return \" \".join(map(str, ls))\n",
    "\n",
    "\n",
    "with open(input(), \"r\") as test_cases:\n",
    "    for test in test_cases:\n",
    "        ls, n = test.strip().split(\"|\")\n",
    "        \n",
    "        ls = [int(x) for x in ls if x != \" \"]\n",
    "        \n",
    "        n  = int(n)\n",
    "        print(my_sort(ls, n))\n",
    "        "
   ]
  },
  {
   "cell_type": "code",
   "execution_count": null,
   "metadata": {
    "collapsed": true
   },
   "outputs": [],
   "source": [
    "f = open(input(), 'r')\n",
    "lines = f.readlines()\n",
    "n, i = int(lines[0]), 0\n",
    "for l in sorted(lines[1:], key=len, reverse=True):\n",
    "  if i == n:\n",
    "    break\n",
    "  print l.strip()\n",
    "  i += 1\n",
    "f.close()"
   ]
  },
  {
   "cell_type": "code",
   "execution_count": null,
   "metadata": {
    "collapsed": true
   },
   "outputs": [],
   "source": [
    "import sys\n",
    "\n",
    "with open(input(), 'r') as cef:\n",
    "    lines = cef.readlines()\n",
    "    nums  = int(lines[0])\n",
    "    lns   = sorted(lines[1:], key=len, reverse=True)\n",
    "    print(\"\\n\".join(lns[:nums]))"
   ]
  },
  {
   "cell_type": "code",
   "execution_count": null,
   "metadata": {
    "collapsed": true
   },
   "outputs": [],
   "source": [
    "import sys\n",
    "allord = []\n",
    "for i in range(32, 91):\n",
    "    allord.append(i)\n",
    "for i in range(97, 123):\n",
    "    allord.append(i)\n",
    "allord.remove(59)    \n",
    "\n",
    "def prepare(keys, n):\n",
    "    outs = keys\n",
    "    times = n // len(keys)\n",
    "    for i in range(times -1):\n",
    "        outs += keys\n",
    "    res = n % len(keys)    \n",
    "    outs += keys[:res]\n",
    "    return outs\n",
    "        \n",
    "with open(input(), 'r') as cef:\n",
    "    lines = cef.readlines()\n",
    "    for line in lines:\n",
    "        keys, msg = line.strip().split(\";\")\n",
    "        keys = prepare(keys, len(msg))\n",
    "        \n",
    "        decoded = []\n",
    "        for i, k in enumerate(list(msg)):\n",
    "            \n",
    "            decoded.append(chr(allord[((allord.index(ord(k)) - int(keys[i]) + 84) % 84)]))\n",
    "          \n",
    "        print(\"\".join(decoded))\n",
    "        \n"
   ]
  },
  {
   "cell_type": "code",
   "execution_count": null,
   "metadata": {
    "collapsed": true
   },
   "outputs": [],
   "source": [
    "import sys\n",
    "import re\n",
    "def getTarget(matrix, row, col):\n",
    "    test = \"\"\n",
    "    for i in matrix[row: row+2]:\n",
    "        for j in i[col:col+2]:\n",
    "            test +=  j\n",
    "    return(test)\n",
    "           \n",
    "            \n",
    "            \n",
    "with open(input(),\"r\") as cef:\n",
    "    lines = cef.readlines()\n",
    "    for line in lines:\n",
    "        line = re.sub(\" \",\"\",line.strip())\n",
    "        matrix = line.split(\"|\")\n",
    "        cnt = 0\n",
    "        for i in range(len(matrix) -1):\n",
    "            for j in range(len(matrix[0])-1):\n",
    "                maybe = (\"\".join(sorted(getTarget(matrix, i, j))))\n",
    "                if maybe == \"cdeo\":\n",
    "                    cnt += 1\n",
    "        print(cnt)            \n",
    "        "
   ]
  },
  {
   "cell_type": "code",
   "execution_count": null,
   "metadata": {
    "collapsed": true
   },
   "outputs": [],
   "source": [
    "import re\n",
    "import sys\n",
    "def graysToInt(s):\n",
    "    outs=[] \n",
    "    for k,v in enumerate(s):\n",
    "        if k == 0:\n",
    "            outs.append(v)\n",
    "        else:\n",
    "            if v == outs[-1]:\n",
    "                outs.append(\"0\")\n",
    "            else:\n",
    "                outs.append(\"1\")\n",
    "    return int(\"\".join(outs), 2) \n",
    "\n",
    "with open(input(), \"r\") as cef:\n",
    "    lines = cef.readlines()\n",
    "    for line in lines:\n",
    "        line = re.sub(\" \", \"\", line.strip()).split(\"|\")\n",
    "        res = []\n",
    "        for ln in line:\n",
    "            res.append(graysToInt(ln))\n",
    "        print(\"|\".join(map(str,res)))\n",
    "        \n",
    "\n",
    "\n",
    "            \n",
    "        \n",
    "       \n",
    "            \n",
    "        "
   ]
  },
  {
   "cell_type": "code",
   "execution_count": null,
   "metadata": {
    "collapsed": true
   },
   "outputs": [],
   "source": [
    "def updateGap(ls, l, gap):\n",
    "    swapped = False\n",
    "    for i in range(l-gap):\n",
    "        j = i + gap\n",
    "        if ls[i] > ls[j]:\n",
    "            swapped = True\n",
    "            ls[i], ls[j] = ls[j], ls[i]\n",
    "    return swapped\n",
    "\n",
    "def comb_sort(ls):\n",
    "    l = gap = len(ls)\n",
    "    c = 0\n",
    "    while True:\n",
    "        gap = max(int(gap / 1.25), 1)\n",
    "        if not updateGap(ls, l, gap) and gap == 1:\n",
    "            return c\n",
    "        c += 1\n",
    "\n",
    "                \n",
    "with open(input(), \"r\") as cef:\n",
    "    lines = cef.readlines()\n",
    "    for line in lines:\n",
    "        print(comb_sort(line.split()))\n",
    "        "
   ]
  },
  {
   "cell_type": "code",
   "execution_count": null,
   "metadata": {
    "collapsed": true
   },
   "outputs": [],
   "source": [
    "import re\n",
    "import sys\n",
    "ins = \"A | B | C | D | E | F | G | H | I | J | K | L | M\"\n",
    "outs= \"U | V | W | X | Y | Z | N | O | P | Q | R | S | T\"\n",
    "ins = (re.sub(\" \",\"\", ins)).split(\"|\")\n",
    "ins = [x.lower() for x in ins]\n",
    "outs= (re.sub(\" \",\"\", outs)).split(\"|\")\n",
    "outs= [x.lower() for x in outs]\n",
    "\n",
    "\n",
    "with open(input(), \"r\") as cef:\n",
    "    lines = cef.readlines()    \n",
    "    for line in lines:\n",
    "        \n",
    "        decoded = ''\n",
    "        for x in line.strip():           \n",
    "            if x in ins:\n",
    "                decoded += outs[ins.index(x)]\n",
    "            else:\n",
    "                decoded += ins[outs.index(x)]\n",
    "        print(decoded)        \n",
    "\n"
   ]
  },
  {
   "cell_type": "code",
   "execution_count": null,
   "metadata": {
    "collapsed": true
   },
   "outputs": [],
   "source": [
    "import sys\n",
    "\n",
    "import sys\n",
    "def count(value, last_coin=50):\n",
    "    if value == 0:\n",
    "        return 1\n",
    "    result = 0\n",
    "    for coin in [50, 25, 10, 5, 1]:\n",
    "        if coin <= value and coin <= last_coin:\n",
    "            result += count(value - coin, coin)\n",
    "    return result\n",
    "\n",
    "with open(input(), \"r\") as cef:\n",
    "    lines = cef.readlines()\n",
    "    for line in lines:        \n",
    "        print(count(int(line)))\n"
   ]
  },
  {
   "cell_type": "code",
   "execution_count": null,
   "metadata": {
    "collapsed": true
   },
   "outputs": [],
   "source": [
    "import sys\n",
    "\n",
    "\n",
    "def decode(s):\n",
    "    c = 0\n",
    "    for a, b in zip(s, s[len(s)//2:]):\n",
    "        if a == b == '*':\n",
    "            c += 1\n",
    "        elif a != b and not (a == '*' or b == '*'):\n",
    "            return 0\n",
    "    return 2 ** c\n",
    "\n",
    "\n",
    "with open(input(), 'r') as cef:\n",
    "    for line in cef:\n",
    "        print(decode(line.rstrip()))\n"
   ]
  },
  {
   "cell_type": "code",
   "execution_count": null,
   "metadata": {
    "collapsed": true
   },
   "outputs": [],
   "source": [
    "import sys\n",
    "\n",
    "\n",
    "def transform(s):\n",
    "    l = len(s)\n",
    "    ls = ['']*l\n",
    "    for _ in range(l):\n",
    "        ls = sorted(a + b for a, b in zip(s, ls))\n",
    "        \n",
    "    for t in ls:\n",
    "        if t[-1] == '$':\n",
    "            return t\n",
    "\n",
    "\n",
    "with open(input(), 'r') as f:\n",
    "    for ln in f:        \n",
    "        print (transform(ln.strip()[:-1]))"
   ]
  },
  {
   "cell_type": "code",
   "execution_count": 76,
   "metadata": {},
   "outputs": [
    {
     "name": "stdout",
     "output_type": "stream",
     "text": [
      "codeeval.txt\n"
     ]
    },
    {
     "ename": "TypeError",
     "evalue": "'map' object is not subscriptable",
     "output_type": "error",
     "traceback": [
      "\u001b[0;31m---------------------------------------------------------------------------\u001b[0m",
      "\u001b[0;31mTypeError\u001b[0m                                 Traceback (most recent call last)",
      "\u001b[0;32m<ipython-input-76-78c13f1b0810>\u001b[0m in \u001b[0;36m<module>\u001b[0;34m()\u001b[0m\n\u001b[1;32m     20\u001b[0m     \u001b[0;32mif\u001b[0m \u001b[0mn\u001b[0m \u001b[0;34m==\u001b[0m \u001b[0;36m0\u001b[0m\u001b[0;34m:\u001b[0m\u001b[0;34m\u001b[0m\u001b[0m\n\u001b[1;32m     21\u001b[0m         \u001b[0;32mif\u001b[0m \u001b[0mlen\u001b[0m\u001b[0;34m(\u001b[0m\u001b[0mpoints\u001b[0m\u001b[0;34m)\u001b[0m \u001b[0;34m>\u001b[0m \u001b[0;36m0\u001b[0m\u001b[0;34m:\u001b[0m\u001b[0;34m\u001b[0m\u001b[0m\n\u001b[0;32m---> 22\u001b[0;31m             \u001b[0mprint\u001b[0m \u001b[0;34m(\u001b[0m\u001b[0mfind_closest_pair\u001b[0m\u001b[0;34m(\u001b[0m\u001b[0mpoints\u001b[0m\u001b[0;34m)\u001b[0m\u001b[0;34m)\u001b[0m\u001b[0;34m\u001b[0m\u001b[0m\n\u001b[0m\u001b[1;32m     23\u001b[0m             \u001b[0mpoints\u001b[0m \u001b[0;34m=\u001b[0m \u001b[0;34m[\u001b[0m\u001b[0;34m]\u001b[0m\u001b[0;34m\u001b[0m\u001b[0m\n\u001b[1;32m     24\u001b[0m         \u001b[0mn\u001b[0m \u001b[0;34m=\u001b[0m \u001b[0mint\u001b[0m\u001b[0;34m(\u001b[0m\u001b[0mtest\u001b[0m\u001b[0;34m.\u001b[0m\u001b[0mstrip\u001b[0m\u001b[0;34m(\u001b[0m\u001b[0;34m)\u001b[0m\u001b[0;34m)\u001b[0m\u001b[0;34m\u001b[0m\u001b[0m\n",
      "\u001b[0;32m<ipython-input-76-78c13f1b0810>\u001b[0m in \u001b[0;36mfind_closest_pair\u001b[0;34m(ls)\u001b[0m\n\u001b[1;32m      6\u001b[0m \u001b[0;34m\u001b[0m\u001b[0m\n\u001b[1;32m      7\u001b[0m \u001b[0;32mdef\u001b[0m \u001b[0mfind_closest_pair\u001b[0m\u001b[0;34m(\u001b[0m\u001b[0mls\u001b[0m\u001b[0;34m)\u001b[0m\u001b[0;34m:\u001b[0m\u001b[0;34m\u001b[0m\u001b[0m\n\u001b[0;32m----> 8\u001b[0;31m     \u001b[0mls\u001b[0m \u001b[0;34m=\u001b[0m \u001b[0msorted\u001b[0m\u001b[0;34m(\u001b[0m\u001b[0mls\u001b[0m\u001b[0;34m,\u001b[0m \u001b[0mkey\u001b[0m\u001b[0;34m=\u001b[0m\u001b[0mitemgetter\u001b[0m\u001b[0;34m(\u001b[0m\u001b[0;36m0\u001b[0m\u001b[0;34m,\u001b[0m \u001b[0;36m1\u001b[0m\u001b[0;34m)\u001b[0m\u001b[0;34m)\u001b[0m\u001b[0;34m\u001b[0m\u001b[0m\n\u001b[0m\u001b[1;32m      9\u001b[0m     \u001b[0mdist\u001b[0m\u001b[0;34m,\u001b[0m \u001b[0mm\u001b[0m \u001b[0;34m=\u001b[0m \u001b[0;34m[\u001b[0m\u001b[0;34m]\u001b[0m\u001b[0;34m,\u001b[0m \u001b[0;36m40000\u001b[0m\u001b[0;34m\u001b[0m\u001b[0m\n\u001b[1;32m     10\u001b[0m     \u001b[0;32mfor\u001b[0m \u001b[0mi\u001b[0m \u001b[0;32min\u001b[0m \u001b[0mrange\u001b[0m\u001b[0;34m(\u001b[0m\u001b[0mlen\u001b[0m\u001b[0;34m(\u001b[0m\u001b[0mls\u001b[0m\u001b[0;34m)\u001b[0m\u001b[0;34m-\u001b[0m\u001b[0;36m1\u001b[0m\u001b[0;34m)\u001b[0m\u001b[0;34m:\u001b[0m\u001b[0;34m\u001b[0m\u001b[0m\n",
      "\u001b[0;31mTypeError\u001b[0m: 'map' object is not subscriptable"
     ]
    }
   ],
   "source": [
    "import sys\n",
    "from operator import itemgetter\n",
    "\n",
    "def get_distance(p, q):\n",
    "    return ((p[0]-q[0])**2 + (p[1]-q[1])**2)**0.5\n",
    "\n",
    "def find_closest_pair(ls):\n",
    "    ls = sorted(ls, key=itemgetter(0, 1))\n",
    "    dist, m = [], 40000\n",
    "    for i in range(len(ls)-1):\n",
    "        m = min(m, get_distance(ls[i], ls[i+1]))\n",
    "    if m > 10000:\n",
    "        return \"INFINITY\"\n",
    "    else:\n",
    "        return \"%.4f\" % m\n",
    "    \n",
    "points, n = [], 0\n",
    "test_cases = open(input(), 'r')\n",
    "for test in test_cases:\n",
    "    if n == 0:\n",
    "        if len(points) > 0:\n",
    "            print (find_closest_pair(points))\n",
    "            points = []\n",
    "        n = int(test.strip())\n",
    "        if n == 0:\n",
    "            break\n",
    "    else:\n",
    "        points.append(map(int, test.split()))\n",
    "        n -= 1\n",
    "test_cases.close()"
   ]
  },
  {
   "cell_type": "code",
   "execution_count": 47,
   "metadata": {},
   "outputs": [
    {
     "name": "stdout",
     "output_type": "stream",
     "text": [
      "codeeval.txt\n",
      "36.2215\n"
     ]
    }
   ],
   "source": [
    "import sys\n",
    "from operator import itemgetter\n",
    "import math\n",
    "def point_distance(p1, p2):\n",
    "    return math.sqrt(pow((p2[0]-p1[0]),2) +pow((p2[1]-p1[1]),2))    \n",
    "   \n",
    "\n",
    "    \n",
    "    \n",
    "\n",
    "def getNearestPoints(coords):\n",
    "    \n",
    "    coord = sorted(coords, key=itemgetter(0, 1))\n",
    "    \n",
    "    distances, minDist = [] , 40000\n",
    "    for i in range(len(coord) -1):\n",
    "        minDist = min(minDist, point_distance(coord[i], coord[i+1]))\n",
    "    \n",
    "    print(\"INFINITY\" if minDist > 10000 else \"%.4f\" % minDist)    \n",
    "        \n",
    "coords ,  n  = [] , 0\n",
    "with open(input(), \"r\") as cef:\n",
    "    for line in cef:        \n",
    "        if n == 0:\n",
    "            if len(coords) > 0:\n",
    "                getNearestPoints(coords)\n",
    "                coords = []\n",
    "            n = int(line.strip())            \n",
    "            if n == 0:\n",
    "                break\n",
    "        else:\n",
    "            a, b = line.split()\n",
    "            coords.append([int(a), int(b)])\n",
    "            \n",
    "            \n",
    "            n -= 1\n",
    "          "
   ]
  },
  {
   "cell_type": "code",
   "execution_count": null,
   "metadata": {
    "collapsed": true
   },
   "outputs": [],
   "source": []
  }
 ],
 "metadata": {
  "kernelspec": {
   "display_name": "Python 3",
   "language": "python",
   "name": "python3"
  },
  "language_info": {
   "codemirror_mode": {
    "name": "ipython",
    "version": 3
   },
   "file_extension": ".py",
   "mimetype": "text/x-python",
   "name": "python",
   "nbconvert_exporter": "python",
   "pygments_lexer": "ipython3",
   "version": "3.5.3"
  }
 },
 "nbformat": 4,
 "nbformat_minor": 2
}
