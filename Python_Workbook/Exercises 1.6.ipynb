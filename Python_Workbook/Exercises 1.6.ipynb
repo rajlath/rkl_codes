{
 "cells": [
  {
   "cell_type": "code",
   "execution_count": 1,
   "metadata": {},
   "outputs": [
    {
     "name": "stdout",
     "output_type": "stream",
     "text": [
      "Raj Kumar Lath.\n",
      "C1 102 Shreekhetra Residency.\n",
      "Behind Sani Temple.\n",
      "Aiginia.\n",
      "Bhubaneswar 751019\n",
      "Odisha State\n",
      "India.\n"
     ]
    }
   ],
   "source": [
    "# Exercise 1: Mailing Address\n",
    "print(\"Raj Kumar Lath.\")\n",
    "print(\"C1 102 Shreekhetra Residency.\")\n",
    "print(\"Behind Sani Temple.\")\n",
    "print(\"Aiginia.\")\n",
    "print(\"Bhubaneswar 751019\")\n",
    "print(\"Odisha State\")\n",
    "print(\"India.\")"
   ]
  },
  {
   "cell_type": "code",
   "execution_count": 2,
   "metadata": {},
   "outputs": [
    {
     "name": "stdout",
     "output_type": "stream",
     "text": [
      "What's your name ?raj\n",
      "Welcome raj\n"
     ]
    }
   ],
   "source": [
    "# Exercise 2: Hello\n",
    "name = input(\"What's your name ?\")\n",
    "print(\"Welcome {}\".format(name))"
   ]
  },
  {
   "cell_type": "code",
   "execution_count": 4,
   "metadata": {},
   "outputs": [
    {
     "name": "stdout",
     "output_type": "stream",
     "text": [
      "Enter width of the room in feets . ?12.56\n",
      "Enter length of the room in feets . ?15.65\n",
      "Area of your room is 196.5640 : sqr feet.\n"
     ]
    }
   ],
   "source": [
    "# Exercise 3: Area of a Room\n",
    "width = float(input(\"Enter width of the room in feets . ?\"))\n",
    "length= float(input(\"Enter length of the room in feets . ?\"))\n",
    "area  = width * length\n",
    "print(\"Area of your room is {:4.4f} : sqr feet.\".format(area))\n",
    "              "
   ]
  },
  {
   "cell_type": "code",
   "execution_count": 9,
   "metadata": {},
   "outputs": [
    {
     "name": "stdout",
     "output_type": "stream",
     "text": [
      "Enter width of the field in feets . ?1123.56\n",
      "Enter length of the field in feets . ?3156.89\n",
      "3546955.3283999995\n",
      "Area of your field  is 81.4269 : Acre.\n"
     ]
    }
   ],
   "source": [
    "# Exercise 4: Area of a Field\n",
    "ACRE = 43560\n",
    "width = float(input(\"Enter width of the field in feets . ?\"))\n",
    "length= float(input(\"Enter length of the field in feets . ?\"))\n",
    "area  = width * length\n",
    "print(area)\n",
    "area_in_acre = area / ACRE\n",
    "print(\"Area of your field  is {:4.4f} : Acre.\".format(area_in_acre))"
   ]
  },
  {
   "cell_type": "code",
   "execution_count": 15,
   "metadata": {},
   "outputs": [
    {
     "name": "stdout",
     "output_type": "stream",
     "text": [
      "Enter number of bottles having size less then equal to 1 liter :?8\n",
      "Enter number of bottles having size more then 1 litre : ?12\n",
      "Your total refund will be $3.80 .\n"
     ]
    }
   ],
   "source": [
    "# Exercise 5: Bottle Deposits\n",
    "ONE_OR_LESS = 0.10\n",
    "ONE_PLUS    = 0.25\n",
    "\n",
    "\n",
    "sub_one = int(input(\"Enter number of bottles having size less then equal to 1 liter :?\"))\n",
    "plus_one= int(input(\"Enter number of bottles having size more then 1 litre : ?\") )\n",
    "refund  = sub_one * ONE_OR_LESS + plus_one * ONE_PLUS\n",
    "print(\"Your total refund will be ${:.2f} .\".format(refund))\n"
   ]
  },
  {
   "cell_type": "code",
   "execution_count": 20,
   "metadata": {},
   "outputs": [
    {
     "name": "stdout",
     "output_type": "stream",
     "text": [
      "Enter meal cost :?1128.60\n",
      "Your meal cost is 1128.60\n",
      "Tax levied on meal cost is 135.43\n",
      "Tip amounts to 203.15\n",
      "Your total bill is 1467.18\n"
     ]
    }
   ],
   "source": [
    "# Exercise 6: Tax and Tip\n",
    "LOCAL_TAX = 12\n",
    "TIP   = 18\n",
    "meal_cost = float(input(\"Enter meal cost :?\"))\n",
    "tax = (meal_cost * LOCAL_TAX) / 100\n",
    "\n",
    "\n",
    "tip = (meal_cost * TIP) / 100\n",
    "bill = meal_cost + tax + tip\n",
    "print(\"Your meal cost is {:.2f}\".format(meal_cost))\n",
    "print(\"Tax levied on meal cost is {:.2f}\".format(tax))\n",
    "print(\"Tip amounts to {:.2f}\".format(tip))\n",
    "print(\"Your total bill is {:.2f}\".format(meal_cost + tax + tip))"
   ]
  },
  {
   "cell_type": "code",
   "execution_count": 21,
   "metadata": {},
   "outputs": [
    {
     "name": "stdout",
     "output_type": "stream",
     "text": [
      "Enter a positive integer number. ?10\n",
      "Sum of all the numbers upto 10 is 55\n"
     ]
    }
   ],
   "source": [
    "# Exercise 7: Sum of the First n Positive Integers\n",
    "given = int(input(\"Enter a positive integer number. ?\"))\n",
    "answer= (given * (given + 1)) // 2\n",
    "print(\"Sum of all the numbers upto {} is {}\".format(given, answer))"
   ]
  },
  {
   "cell_type": "code",
   "execution_count": 4,
   "metadata": {},
   "outputs": [
    {
     "name": "stdout",
     "output_type": "stream",
     "text": [
      "Enter quantity of widgets :?8\n",
      "Enter quantity of gizmos :?32\n",
      "Total weights of 8 widgets and 32 gizmo is  4184gms.\n"
     ]
    }
   ],
   "source": [
    "# Exercise 8: Widgets and Gizmos\n",
    "'''\n",
    "An online retailer sells two products: widgets and gizmos. Each widget weighs 75\n",
    "grams. Each gizmo weighs 112 grams. Write a program that reads the number of\n",
    "widgets and the number of gizmos from the user. Then your program should compute\n",
    "and display the total weight of the parts.\n",
    "'''\n",
    "WIDGETS = 75\n",
    "GIZMO   = 112\n",
    "widgets = int(input(\"Enter quantity of widgets :?\"))\n",
    "gizmo  = int(input(\"Enter quantity of gizmos :?\"))\n",
    "total_weight = widgets * WIDGETS + gizmo * GIZMO\n",
    "print(\"Total weights of {} widgets and {} gizmo is  {}gms.\".format(widgets, gizmo, total_weight))"
   ]
  },
  {
   "cell_type": "code",
   "execution_count": 6,
   "metadata": {},
   "outputs": [
    {
     "name": "stdout",
     "output_type": "stream",
     "text": [
      "Enter the amount of money deposited by you : ?12650\n",
      "Amount in your saving account after one years is 13156.00\n",
      "Amount in your saving account after second years is 13682.24\n",
      "Amount in your saving account after three years is 14229.53\n"
     ]
    }
   ],
   "source": [
    "# Exercise 9: Compound Interest\n",
    "'''\n",
    "Pretend that you have just opened a new savings account that earns 4 percent interest\n",
    "per year. The interest that you earn is paid at the end of the year, and is added to the\n",
    "balance of the savings account. Write a program that begins by reading the amount of\n",
    "money deposited into the account from the user. Then your program should compute\n",
    "and display the amount in the savings account after 1, 2, and 3 years. Display each\n",
    "amount so that it is rounded to 2 decimal places.\n",
    "'''\n",
    "INTEREST = 4.0\n",
    "deposit  = int(input(\"Enter the amount of money deposited by you : ?\"))\n",
    "deposit  +=  deposit * .04\n",
    "print(\"Amount in your saving account after one years is {:.2f}\".format(deposit))\n",
    "deposit  +=  deposit * .04\n",
    "print(\"Amount in your saving account after second years is {:.2f}\".format(deposit))\n",
    "deposit  +=  deposit * .04\n",
    "print(\"Amount in your saving account after three years is {:.2f}\".format(deposit))\n",
    "\n",
    "\n",
    "\n"
   ]
  },
  {
   "cell_type": "code",
   "execution_count": 8,
   "metadata": {},
   "outputs": [
    {
     "name": "stdout",
     "output_type": "stream",
     "text": [
      "Enter an integer :?32\n",
      "Enter another integer :?14\n",
      "Sum of a and b i,e a + b is 46\n",
      "Difference between a and b i,e  b - a  is 18\n",
      "Product of a and b ie a * b is 448\n",
      "Quotient of a and b ie a / b is 2\n",
      "Reminder of a when divided be b is 4\n",
      "Base 10 logarithm of a is 1.505149978319906.\n",
      "a when raised to power of b results in 1180591620717411303424\n"
     ]
    }
   ],
   "source": [
    "# Exercise 10: Arithmetic\n",
    "'''\n",
    "Create a program that reads two integers, a and b, from the user.Your program should\n",
    "compute and display:\n",
    "• The sum of a and b\n",
    "• The difference when b is subtracted from a\n",
    "• The product of a and b\n",
    "• The quotient when a is divided by b\n",
    "• The remainder when a is divided by b\n",
    "• The result of log10 a\n",
    "• The result of ab\n",
    "'''\n",
    "from math import log10\n",
    "\n",
    "a = int(input(\"Enter an integer :?\"))\n",
    "b = int(input(\"Enter another integer :?\"))\n",
    "print(\"Sum of a and b i,e a + b is {}\".format(a + b))\n",
    "print(\"Difference between a and b i,e  b - a  is {}\".format(a - b))\n",
    "print(\"Product of a and b ie a * b is {}\".format(a * b))\n",
    "print(\"Quotient of a and b ie a / b is {}\".format(a // b))\n",
    "print(\"Reminder of a when divided be b is {}\".format(a % b))\n",
    "print(\"Base 10 logarithm of a is {}.\".format(log10(a)))\n",
    "print(\"a when raised to power of b results in {}\".format(a ** b))"
   ]
  },
  {
   "cell_type": "code",
   "execution_count": 14,
   "metadata": {},
   "outputs": [
    {
     "name": "stdout",
     "output_type": "stream",
     "text": [
      "Enter fuel efficiency in US metric MPG  :?86\n",
      "Eqivalent of 86.0 miles-pergallon is 2.74 Liter per 100km\n"
     ]
    }
   ],
   "source": [
    "# Exercise 11: Fuel Efficiency\n",
    "'''\n",
    "In the United States, fuel efficiency for vehicles is normally expressed in miles-pergallon\n",
    "(MPG). In Canada, fuel efficiency is normally expressed in liters-per-hundred\n",
    "kilometers (L/100 km). Use your research skills to determine how to convert from\n",
    "MPGto L/100 km. Then create a program that reads a value from the user in American\n",
    "units and displays the equivalent fuel efficiency in Canadian units.\n",
    "'''\n",
    "'''\n",
    "\n",
    "Liters100km = (100 * 3.785411784) // (1.609344 * MPGus)\n",
    "U.S. Gallon = 3.785411784 Liters\n",
    "Mile = 1.609344 Kilometers\n",
    "\n",
    "example 35 U.S. MPG = 6.72 Liters per 100 km\n",
    "        86 U.S. MPG = 2.74 Liters per 100 km\n",
    "'''\n",
    "MILE2KM = 1.609344 \n",
    "GALLON2LITER = 3.785411784\n",
    "\n",
    "mpg = float(input(\"Enter fuel efficiency in US metric MPG  :?\"))\n",
    "Liters100km = (100 *GALLON2LITER) / (1.609344 * mpg)\n",
    "print(\"Eqivalent of {} miles-pergallon is {:.2f} Liter per 100km\".format(mpg, Liters100km))\n",
    "\n"
   ]
  },
  {
   "cell_type": "code",
   "execution_count": null,
   "metadata": {},
   "outputs": [],
   "source": []
  },
  {
   "cell_type": "code",
   "execution_count": 30,
   "metadata": {},
   "outputs": [
    {
     "name": "stdout",
     "output_type": "stream",
     "text": [
      "Enter latitude value 1 ?11\n",
      "Enter latitude value 2 )22\n",
      "Enter longitude value 1 ?16\n",
      "Enter longitude value 2 ?42\n",
      "Distance between points having longitude(0.19198621771937624 0.3839724354387525) radian and latitude (0.2792526803190927 0.7330382858376184) radians is 2231.415446202237 kms\n"
     ]
    }
   ],
   "source": [
    "# Exercise 12: Distance Between Two Points on Earth\n",
    "\n",
    "'''\n",
    "The surface of the Earth is curved, and the distance between degrees of longitude\n",
    "varies with latitude. As a result, finding the distance between two points on the surface\n",
    "of the Earth is more complicated than simply using the Pythagorean theorem.\n",
    "Let (t1, g1) and (t2, g2) be the latitude and longitude of two points on the Earth’s\n",
    "surface. The distance between these points, following the surface of the Earth, in\n",
    "kilometers is:\n",
    "distance = 6371.01 × arccos(sin(t1) × sin(t2) + cos(t1) × cos(t2) × cos(g1 − g2))\n",
    "\n",
    "The value 6371.01 in the previous equation wasn’t selected at random. It is the\n",
    "average radius of the Earth in kilometers.\n",
    "\n",
    "Create a program that allows the user to enter the latitude and longitude of two\n",
    "points on the Earth in degrees. Your program should display the distance between\n",
    "the points, following the surface of the earth, in kilometers.\n",
    "\n",
    "Hint: Python’s trigonometric functions operate in radians. As a result, you will\n",
    "need to convert the user’s input from degrees to radians before computing the\n",
    "distance with the formula discussed previously. The math module contains a\n",
    "function named radians which converts from degrees to radians.\n",
    "'''\n",
    "        \n",
    "import math\n",
    "AVG_RADIUS_OF_EARTH = 6371.01\n",
    "t1 = math.radians(float(input(\"Enter latitude value 1 ?\")))\n",
    "g1 = math.radians(float(input(\"Enter latitude value 2 )\")))\n",
    "t2 = math.radians(float(input(\"Enter longitude value 1 ?\")))\n",
    "g2 = math.radians(float(input(\"Enter longitude value 2 ?\")))\n",
    "g = g1 - g2\n",
    "distance = AVG_RADIUS_OF_EARTH * math.acos((math.sin(t1) * math.sin(t2)) + (math.cos(t1) * math.cos(t2) * math.cos(g)))\n",
    "print(\"Distance between points having longitude({} {}) radians and latitude ({} {}) radians is {} kms\".format(t1, g1, t2, g2, distance))\n",
    "\n",
    "\n",
    "\n",
    "\n",
    "\n"
   ]
  },
  {
   "cell_type": "code",
   "execution_count": 32,
   "metadata": {},
   "outputs": [
    {
     "name": "stdout",
     "output_type": "stream",
     "text": [
      "Enter amount in cents you have. ?456\n",
      "  2 toonies\n",
      "  0 loonies\n",
      "  2 quarters\n",
      "  0 dimes\n",
      "  1 nickels\n",
      "  1 pennies\n"
     ]
    }
   ],
   "source": [
    "# Exercise 13: Making Change\n",
    "'''\n",
    "Consider the software that runs on a self-checkout machine. One task that it must be\n",
    "able to perform is to determine how much change to provide when the shopper pays\n",
    "for a purchase with cash.\n",
    "Write a program that begins by reading a number of cents from the user as an\n",
    "integer. Then your program should compute and display the denominations of the\n",
    "coins that should be used to give that amount of change to the shopper. The change\n",
    "should be given using as few coins as possible. Assume that the machine is loaded\n",
    "with pennies, nickels, dimes, quarters, loonies and toonies.\n",
    "A one dollar coin was introduced in Canada in 1987. It is referred to as a loonie\n",
    "because one side of the coin has a loon (a type of bird) on it. The two dollar\n",
    "coin, referred to as a toonie, was introduced 9 years later. It’s name is derived\n",
    "from the combination of the number two and the name of the loonie.\n",
    "'''\n",
    "\n",
    "CENTS_PER_TOONIE = 200\n",
    "CENTS_PER_LOONIE = 100\n",
    "CENTS_PER_QUARTER = 25\n",
    "CENTS_PER_DIME = 10\n",
    "CENTS_PER_NICKEL = 5\n",
    "\n",
    "cents = int(input(\"Enter amount in cents you have. ?\"))\n",
    "\n",
    "print(\" \", cents // CENTS_PER_TOONIE, \"toonies\")\n",
    "cents = cents % CENTS_PER_TOONIE\n",
    "print(\" \", cents // CENTS_PER_LOONIE, \"loonies\")\n",
    "cents = cents % CENTS_PER_LOONIE\n",
    "print(\" \", cents // CENTS_PER_QUARTER, \"quarters\")\n",
    "cents = cents % CENTS_PER_QUARTER\n",
    "print(\" \", cents // CENTS_PER_DIME, \"dimes\")\n",
    "cents = cents % CENTS_PER_DIME\n",
    "print(\" \", cents // CENTS_PER_NICKEL, \"nickels\")\n",
    "cents = cents % CENTS_PER_NICKEL\n",
    "# Display the number of pennies\n",
    "print(\" \", cents, \"pennies\")\n",
    "\n"
   ]
  },
  {
   "cell_type": "code",
   "execution_count": 34,
   "metadata": {},
   "outputs": [
    {
     "name": "stdout",
     "output_type": "stream",
     "text": [
      "Enter feet of the measurement :?13\n",
      "Enter inch of the measurement :?11\n",
      "Measurment provided by you 13.0 feet and 11.0 inches is equivalent to 424.18 centimeters.\n"
     ]
    }
   ],
   "source": [
    "# Exercise 14: Height Units\n",
    "'''\n",
    "primarily use the metric system. Write a program that reads a number of feet from\n",
    "the user, followed by a number of inches. Once these values are read, your program\n",
    "should compute and display the equivalent number of centimeters.\n",
    "Hint: One foot is 12 inches. One inch is 2.54 centimeters.\n",
    "'''\n",
    "FOOT2INCH = 12.0\n",
    "INCH2CMS = 2.54\n",
    "\n",
    "feet = float(input(\"Enter feet of the measurement :?\"))\n",
    "inch = float(input(\"Enter inch of the measurement :?\"))\n",
    "# convert feet to inches\n",
    "inches = feet * FOOT2INCH\n",
    "inches += inch\n",
    "in_cms = inches * 2.54\n",
    "print(\"Measurment provided by you {} feet and {} inches is equivalent to {:.2f} centimeters.\".format(feet, inch, in_cms))\n",
    "\n",
    "\n"
   ]
  },
  {
   "cell_type": "code",
   "execution_count": 37,
   "metadata": {},
   "outputs": [
    {
     "name": "stdout",
     "output_type": "stream",
     "text": [
      "Enter distance in feets. ?5600\n",
      "Equivalent of distance 5600.0 feet provided by you should be 67200.00 inches.\n",
      "Equivalent of distance 5600.0 feet provided by you should be 1866.67 yards.\n",
      "Equivalent of distance 5600.0 feet provided by you should be 1.06 miles.\n"
     ]
    }
   ],
   "source": [
    "# Exercise 15: Distance Units\n",
    "'''\n",
    "In this exercise, you will create a program that begins by reading a measurement\n",
    "in feet from the user. Then your program should display the equivalent distance in\n",
    "inches, yards and miles. Use the Internet to look up the necessary conversion factors\n",
    "if you don’t have them memorized.\n",
    "'''\n",
    "FEET = 1\n",
    "FEET2INCH = 12 \n",
    "FEET2YARD = FEET / 3\n",
    "FEET2MILE = FEET / 5280\n",
    "\n",
    "feets = float(input(\"Enter distance in feets. ?\"))\n",
    "print(\"Equivalent of distance {} feet provided by you should be {:.2f} inches.\".format(feets, feets * FEET2INCH))\n",
    "print(\"Equivalent of distance {} feet provided by you should be {:.2f} yards.\".format(feets, feets / 3))\n",
    "print(\"Equivalent of distance {} feet provided by you should be {:.2f} miles.\".format(feets, feets / 5280))\n",
    "\n",
    "\n"
   ]
  },
  {
   "cell_type": "code",
   "execution_count": 40,
   "metadata": {},
   "outputs": [
    {
     "name": "stdout",
     "output_type": "stream",
     "text": [
      "Enter radius : ?17\n",
      "Area of a circle having radius = 17.00 is 907.92\n",
      "Area of a sphere having radius = 17.00 is 20579.53\n"
     ]
    }
   ],
   "source": [
    "# Exercise 16: Area and Volume\n",
    "'''\n",
    "Write a program that begins by reading a radius, r , from the user. The program will\n",
    "continue by computing and displaying the area of a circle with radius r and the\n",
    "volume of a sphere with radius r . Use the pi constant in the math module in your\n",
    "calculations.\n",
    "Hint: The area of a circle is computed using the formula area = πr 2. The\n",
    "volume of a sphere is computed using the formula volume = 4\n",
    "3πr 3.\n",
    "'''\n",
    "from math import pi, pow\n",
    "\n",
    "radius = int(input(\"Enter radius : ?\"))\n",
    "print(\"Area of a circle having radius = {:.2f} is {:.2f}\".format(radius, pi * pow(radius, 2)))\n",
    "print(\"Area of a sphere having radius = {:.2f} is {:.2f}\".format(radius,(4 * pi * pow(radius, 3))/ 3 ))\n",
    "\n"
   ]
  },
  {
   "cell_type": "code",
   "execution_count": 41,
   "metadata": {},
   "outputs": [
    {
     "name": "stdout",
     "output_type": "stream",
     "text": [
      "Amount of water in milliliters: 1530\n",
      "Temperature increase (degrees Celsius): 65\n",
      "That will require 416297 Joules of energy.\n"
     ]
    }
   ],
   "source": [
    "# Exercise 17: Heat Capacity\n",
    "'''\n",
    "The amount of energy required to increase the temperature of one gram of a material\n",
    "by one degree Celsius is the material’s specific heat capacity, C. The total amount\n",
    "of energy, q, required to raise m grams of a material by ΔT degrees Celsius can be\n",
    "computed using the formula:\n",
    "q = mCΔT\n",
    "Write a program that reads the mass of some water and the temperature change from\n",
    "the user. Your program should display the total amount of energy that must be added\n",
    "or removed to achieve the desired temperature change.\n",
    "1.6 Exercises 17\n",
    "Hint: The specific heat capacity of water is 4.186 J\n",
    "g◦C. Because water has a\n",
    "density of 1.0 grams per milliliter, you can use grams and milliliters interchangeably\n",
    "in this exercise.\n",
    "Extend your program so that it also computes the cost of heating the water. Electricity\n",
    "is normally billed using units of kilowatt hours rather than Joules. In this\n",
    "exercise, you should assume that electricity costs 8.9 cents per kilowatt hour. Use\n",
    "your program to compute the cost of boiling the water needed for a cup of coffee.\n",
    "Hint: You will need to look up the factor for converting between Joules and\n",
    "kilowatt hours to complete the last part of this exercise.\n",
    "'''\n",
    "##\n",
    "# Compute the amount of energy needed to heat a volume of water, and the cost of doing so.\n",
    "#\n",
    "# Define constants for the specific heat capacity of water and the price of electricity\n",
    "WATER_HEAT_CAPACITY = 4.186\n",
    "ELECTRICITY_PRICE = 8.9\n",
    "J_TO_KWH = 2.777e-7\n",
    "\n",
    "\n",
    "# Read the volume and temperature increase from the user\n",
    "volume = float(input(\"Amount of water in milliliters: \"))\n",
    "d_temp = float(input(\"Temperature increase (degrees Celsius): \"))\n",
    "'''\n",
    "Because water has a density of 1 gram per milliliter grams and milliliters can be used interchangeably.\n",
    "Prompting the user for milliliters makes the program easier to use because\n",
    "most people think about the volume of water in a coffee cup, not its mass.\n",
    "'''\n",
    "\n",
    "# Compute the energy in Joules\n",
    "q = volume * d_temp * WATER_HEAT_CAPACITY\n",
    "# Display the result in Joules\n",
    "print(\"That will require %d Joules of energy.\" % q)\n",
    "# Compute the cost\n",
    "kwh = q * J_TO_KWH\n",
    "cost = kwh * ELECTRICITY_PRICE"
   ]
  },
  {
   "cell_type": "code",
   "execution_count": 42,
   "metadata": {},
   "outputs": [
    {
     "name": "stdout",
     "output_type": "stream",
     "text": [
      "Enter base of the cylinder. ?12\n",
      "Enter height of the cylinder. ?8\n",
      "Area of the cylinder having base = 12.0 and height = 8.0 is 7263.4\n"
     ]
    }
   ],
   "source": [
    "# Exercise 18: Volume of a Cylinder\n",
    "'''\n",
    "The volume of a cylinder can be computed by multiplying the area of its circular\n",
    "base by its height. Write a program that reads the radius of the cylinder, along with\n",
    "its height, from the user and computes its volume. Display the result rounded to one\n",
    "decimal place.\n",
    "'''\n",
    "from math import pi\n",
    "\n",
    "base = float(input(\"Enter base of the cylinder. ?\"))\n",
    "height=float(input(\"Enter height of the cylinder. ?\"))\n",
    "volume = pi * pow(radius, 2) * height\n",
    "\n",
    "print(\"Area of the cylinder having base = {:.1f} and height = {:.1f} is {:.1f}\".format(base, height, volume))"
   ]
  },
  {
   "cell_type": "code",
   "execution_count": 43,
   "metadata": {},
   "outputs": [
    {
     "name": "stdout",
     "output_type": "stream",
     "text": [
      "Enter height from which object falls. ?12\n",
      "Final speed of an object fall from height 12.00 is 15.34\n"
     ]
    }
   ],
   "source": [
    "#Exercise 19: Free Fall\n",
    "'''\n",
    "Create a program that determines how quickly an object is travelling when it hits the\n",
    "ground. The user will enter the height from which the object is dropped in meters (m).\n",
    "Because the object is dropped its initial speed is 0m/s. Assume that the acceleration\n",
    "due to gravity is 9.8m/s2. You can use the formula vf =\n",
    "\u0002\n",
    "v2\n",
    "i\n",
    "+ 2ad to compute the\n",
    "final speed, vf , when the initial speed, vi , acceleration, a, and distance, d, are known.\n",
    "'''\n",
    "from math import sqrt\n",
    "gravity = 9.8\n",
    "height  = float(input(\"Enter height from which object falls. ?\"))\n",
    "final_speed = sqrt(2 *gravity * height)\n",
    "print(\"Final speed of an object fall from height {:.2f} is {:.2f}\".format(height, final_speed))\n"
   ]
  },
  {
   "cell_type": "code",
   "execution_count": 44,
   "metadata": {},
   "outputs": [
    {
     "name": "stdout",
     "output_type": "stream",
     "text": [
      "Enter pressue ?3000\n",
      "Enter volumd  ?12\n",
      "Enter temprature in celcius.20\n",
      "Enter temprature in Fahrenheit,68\n",
      "Answer is 14.77\n",
      "Answer is 14.77\n"
     ]
    }
   ],
   "source": [
    "# Exercise 20: Ideal Gas Law\n",
    "'''\n",
    "\n",
    "\n",
    "The ideal gas law is a mathematical approximation of the behavior of gasses as\n",
    "pressure, volume and temperature change. It is usually stated as:\n",
    "PV = nRT\n",
    "where P is the pressure in Pascals, V is the volume in liters, n is the amount of\n",
    "substance in moles, R is the ideal gas constant, equal to 8.314 J / mol k  \n",
    "and T is the temperature in degrees Kelvin.\n",
    "\n",
    "Write a program that computes the amount of gas in moles when the user supplies\n",
    "the pressure, volume and temperature. Test your program by determining the number\n",
    "of moles of gas in a SCUBA tank. A typical SCUBA tank holds 12 liters of gas at\n",
    "a pressure of 20,000,000 Pascals (approximately 3,000 PSI). Room temperature is\n",
    "approximately 20 degrees Celsius or 68 degrees Fahrenheit.\n",
    "\n",
    "Hint: A temperature is converted from Celsius to Kelvin by adding 273.15\n",
    "to it. To convert a temperature from Fahrenheit to Kelvin, deduct 32 from it,\n",
    "multiply it by 59\n",
    "and then add 273.15 to it.\n",
    "Exercise 21:\n",
    "'''\n",
    "R = 8.314\n",
    "cel2kev = 273.15\n",
    "# fah2cel =  deduct 32 multiply by 5/9\n",
    "\n",
    "pressure  = float(input(\"Enter pressue ?\"))\n",
    "volume    = float(input(\"Enter volumd  ?\"))\n",
    "Ctemprature= float(input(\"Enter temprature in celcius.\"))\n",
    "FTemprature= float(input(\"Enter temprature in Fahrenheit,\")) \n",
    "\n",
    "kelvinFromCelsius = Ctemprature + cel2kev\n",
    "fahrnFromCelsius  = ((FTemprature - 32) * 5)/9 + cel2kev\n",
    "\n",
    "ans1 = (pressure * volume)  / ( R * kelvinFromCelsius)\n",
    "ans2 = (pressure * volume)  / ( R * fahrnFromCelsius)\n",
    "print(\"Answer is {:.2f}\".format(ans1))\n",
    "print(\"Answer is {:.2f}\".format(ans2))\n",
    "\n"
   ]
  },
  {
   "cell_type": "code",
   "execution_count": 46,
   "metadata": {},
   "outputs": [
    {
     "name": "stdout",
     "output_type": "stream",
     "text": [
      "Enter base of the triangle.12\n",
      "Enter height of the triangle.8\n",
      "Area of the triangle having base = 12 and height = 8 is 96\n"
     ]
    }
   ],
   "source": [
    "#Exercise 21: Area of a Triangle\n",
    "'''\n",
    "The area of a triangle can be computed using the following formula, where b is the\n",
    "length of the base of the triangle, and h is its height:\n",
    "area = b × h\n",
    "2\n",
    "Write a program that allows the user to enter values for b and h. The program should\n",
    "then compute and display the area of a triangle with base length b and height h.\n",
    "'''\n",
    "base = int(input(\"Enter base of the triangle.\"))\n",
    "height = int(input(\"Enter height of the triangle.\"))\n",
    "print(\"Area of the triangle having base = {} and height = {} is {}\".format(base, height, base * height))"
   ]
  },
  {
   "cell_type": "code",
   "execution_count": 55,
   "metadata": {},
   "outputs": [
    {
     "name": "stdout",
     "output_type": "stream",
     "text": [
      "Enter length of side 1 ?12\n",
      "Enter length of side 2 ?14\n",
      "Enter length of side 3 ?16\n",
      "Area of the triangle with sides 12 14 16 is 81.33\n"
     ]
    }
   ],
   "source": [
    "# Exercise 22: Area of a Triangle (Again)\n",
    "'''\n",
    "In the previous exercise you created a program that computed the area of a triangle\n",
    "when the length of its base and its height were known. It is also possible to compute\n",
    "the area of a triangle when the lengths of all three sides are known. Let s1, s2 and s3\n",
    "be the lengths of the sides. Let s = (s1 + s2 + s3)/2. Then the area of the triangle\n",
    "can be calculated using the following formula:\n",
    "area =\n",
    "\u0003\n",
    "s × (s − s1) × (s − s2) × (s − s3)\n",
    "Develop a program that reads the lengths of the sides of a triangle from the user and\n",
    "displays its area.\n",
    "'''\n",
    "from math import sqrt\n",
    "side1 = int(input(\"Enter length of side 1 ?\"))\n",
    "side2 = int(input(\"Enter length of side 2 ?\"))\n",
    "side3 = int(input(\"Enter length of side 3 ?\"))\n",
    "\n",
    "S = (side1 + side2 + side3) / 2\n",
    "area = sqrt(S * (S - side1) * (S - side2) * (S - side3))\n",
    "print(\"Area of the triangle with sides {} {} {} is {:.2f}\".format(side1, side2, side3, area))\n"
   ]
  },
  {
   "cell_type": "code",
   "execution_count": 56,
   "metadata": {},
   "outputs": [
    {
     "name": "stdout",
     "output_type": "stream",
     "text": [
      "Enter length of the sides. ?12\n",
      "Enter number of sides. ?5\n",
      "Area of a polygon having 5 sides of length 12 is 247.75\n"
     ]
    }
   ],
   "source": [
    "# Exercise 23: Area of a Regular Polygon\n",
    "'''\n",
    "\n",
    "A polygon is regular if its sides are all the same length and the angles between all of\n",
    "the adjacent sides are equal. The area of a regular polygon can be computed using\n",
    "the following formula, where s is the length of a side and n is the number of sides:\n",
    "1.6 Exercises 19\n",
    "area = (n × s ^ 2) (4 * tan(pi/n))\n",
    "\n",
    "Write a program that reads s and n from the user and then displays the area of a\n",
    "regular polygon constructed from these values.\n",
    "'''\n",
    "from math import pi, tan\n",
    "side_length = int(input(\"Enter length of the sides. ?\"))\n",
    "nb_sides    = int(input(\"Enter number of sides. ?\"))\n",
    "\n",
    "divisor = nb_sides * pow(side_length, 2)\n",
    "dividend= 4 * tan(pi / nb_sides)\n",
    "area = divisor / dividend\n",
    "print(\"Area of a polygon having {} sides of length {} is {:.2f}\".format(nb_sides, side_length, area))\n",
    "\n"
   ]
  },
  {
   "cell_type": "code",
   "execution_count": 58,
   "metadata": {},
   "outputs": [
    {
     "name": "stdout",
     "output_type": "stream",
     "text": [
      "Number of days ?12\n",
      "Number of hour ?13\n",
      "Number of minutes. ?46\n",
      "Number of seconds. ?18\n",
      "Total seconds in 12 days 13 hours 46 minute and 18 seconds is 1086378\n"
     ]
    }
   ],
   "source": [
    "# Exercise 24: Units of Time\n",
    "\n",
    "'''\n",
    "Create a program that reads a duration from the user as a number of days, hours,\n",
    "minutes, and seconds. Compute and display the total number of seconds represented\n",
    "by this duration.\n",
    "'''\n",
    "days = int(input(\"Number of days ?\"))    \n",
    "hours= int(input(\"Number of hour ?\"))    \n",
    "minute=int(input(\"Number of minutes. ?\"))\n",
    "sec = int(input(\"Number of seconds. ?\"))\n",
    "\n",
    "secs = sec\n",
    "secs += minute * 60\n",
    "secs += hours * 60 * 60\n",
    "secs += days * 24 * 60 * 60\n",
    "\n",
    "print(\"Total seconds in {} days {} hours {} minute and {} seconds is {}\".format(days, hours, minute, sec,secs ))"
   ]
  },
  {
   "cell_type": "code",
   "execution_count": 61,
   "metadata": {},
   "outputs": [
    {
     "name": "stdout",
     "output_type": "stream",
     "text": [
      "Enter number of seconds ?108300\n",
      "108300 seconds means 1:06:05:00\n"
     ]
    }
   ],
   "source": [
    "# Exercise 25: Units of Time (Again)\n",
    "'''\n",
    "In this exercise you will reverse the process described in Exercise 24. Develop a\n",
    "program that begins by reading a number of seconds from the user. Then your program\n",
    "should display the equivalent amount of time in the form D:HH:MM:SS, where D,\n",
    "HH,MM,and SS represent days, hours, minutes and seconds respectively. The hours,\n",
    "minutes and seconds should all be formatted so that they occupy exactly two digits.\n",
    "Use your research skills determine what additional character needs to be included in\n",
    "the format specifier so that leading zeros are used instead of leading spaces when a\n",
    "number is formatted to a particular width.\n",
    "Exercise 26:\n",
    "'''\n",
    "\n",
    "sec = int(input(\"Enter number of seconds ?\"))\n",
    "secs = sec\n",
    "days = secs // ( 24 * 60 * 60)\n",
    "secs -= days * (24 * 60 * 60)\n",
    "hours = secs // ( 60 * 60)\n",
    "secs -= hours * (60 * 60)\n",
    "minute = secs // 60\n",
    "secs -= minute * 60\n",
    "\n",
    "print(\"{} seconds means {}:{}:{}:{}\".format(sec, days, str(hours).zfill(2), str(minute).zfill(2), str(secs).zfill(2) ))"
   ]
  },
  {
   "cell_type": "code",
   "execution_count": 63,
   "metadata": {},
   "outputs": [
    {
     "name": "stdout",
     "output_type": "stream",
     "text": [
      "Mon Jul  8 16:00:40 2019\n"
     ]
    }
   ],
   "source": [
    "#Exercise 26: Current Time\n",
    "\n",
    "'''\n",
    "\n",
    "Python’s time module includes several time-related functions. One of these is the\n",
    "asctime function which reads the current time from the computer’s internal clock\n",
    "and returns it in a human-readable format. Use this function to write a program that\n",
    "displays the current time and date. Your program will not require any input from the\n",
    "user.\n",
    "'''\n",
    "import time\n",
    "print(time.asctime())\n"
   ]
  },
  {
   "cell_type": "code",
   "execution_count": 66,
   "metadata": {},
   "outputs": [
    {
     "name": "stdout",
     "output_type": "stream",
     "text": [
      "Enter your weight in pounds ?140\n",
      "Enter your height in inches ?76\n",
      "BMI of a person having weight 140lbs and height 76inches is 17.04\n",
      "Enter your weight in kgs ?70\n",
      "Enter your height in meter ?1\n",
      "BMI of a person having weight 70kgs and height 1.0mts is 70.00\n"
     ]
    }
   ],
   "source": [
    "# Exercise 28: Body Mass Index\n",
    "'''\n",
    "Write a program that computes the body mass index (BMI) of an individual. Your\n",
    "program should begin by reading a height and weight from the user. Then it should\n",
    "use one of the following two formulas to compute the BMI before displaying it. If\n",
    "you read the height in inches and the weight in pounds then body mass index is\n",
    "computed using the following formula:\n",
    "BMI = weight / height × height × 703\n",
    "If you read the height in meters and the weight in kilograms then body mass index\n",
    "is computed using this slightly simpler formula:\n",
    "BMI = weight / height × height\n",
    "'''\n",
    "# mode 1 weight in pounds and height in inches\n",
    "weight = int(input(\"Enter your weight in pounds ?\"))\n",
    "height = int(input(\"Enter your height in inches ?\"))\n",
    "BMI    = (weight / (height * height)) * 703\n",
    "print(\"BMI of a person having weight {}lbs and height {}inches is {:.2f}\".format(weight, height, BMI))\n",
    "\n",
    "# mode 2 weight in kgs and height in meters\n",
    "\n",
    "weight = int(input(\"Enter your weight in kgs ?\"))\n",
    "height = float(input(\"Enter your height in meter ?\"))\n",
    "BMI    = (weight / (height * height))\n",
    "print(\"BMI of a person having weight {}kgs and height {}mts is {:.2f}\".format(weight, height, BMI))"
   ]
  },
  {
   "cell_type": "code",
   "execution_count": 68,
   "metadata": {},
   "outputs": [
    {
     "name": "stdout",
     "output_type": "stream",
     "text": [
      "Air temperature (degrees Celsius): 9\n",
      "Wind speed (kilometers per hour): 3.5\n",
      "The wind chill index is 9\n"
     ]
    }
   ],
   "source": [
    "#Solution to Exercise 29:Wind Chill\n",
    "##\n",
    "# Compute the wind chill index for a given air temperature and wind speed.\n",
    "#\n",
    "WC_OFFSET = 13.12\n",
    "WC_FACTOR1 = 0.6215\n",
    "WC_FACTOR2 = -11.37\n",
    "WC_FACTOR3 = 0.3965\n",
    "WC_EXPONENT = 0.16\n",
    "#Computing wind chill requires several numeric\n",
    "#constants that were determined by\n",
    "#scientists and medical experts.\n",
    "# Read the air temperature and wind speed from the user\n",
    "temp = float(input(\"Air temperature (degrees Celsius): \"))\n",
    "speed = float(input(\"Wind speed (kilometers per hour): \"))\n",
    "# Compute the wind chill index\n",
    "wci = WC_OFFSET + \\\n",
    "WC_FACTOR1 * temp + \\\n",
    "WC_FACTOR2 * speed ** WC_EXPONENT + \\\n",
    "WC_FACTOR3 * temp * speed ** WC_EXPONENT\n",
    "# Display the result rounded to the closest integer\n",
    "print(\"The wind chill index is\", round(wci))"
   ]
  },
  {
   "cell_type": "code",
   "execution_count": 71,
   "metadata": {},
   "outputs": [
    {
     "name": "stdout",
     "output_type": "stream",
     "text": [
      " Enter Celsius (Degree) : 36.6\n",
      " Temperature : 36.60 Degree Celsius will be  97.88 Degree Fahrenheit and 309.60 Kelvin.\n"
     ]
    }
   ],
   "source": [
    "# Solution to Exercise 30: Celsius to Fahrenheit and Kelvin\n",
    "'''\n",
    "Exercise 30: Celsius to Fahrenheit and Kelvin\n",
    "\n",
    "Write a program that begins by reading a temperature from the user in degrees\n",
    "Celsius. Then your program should display the equivalent temperature in degrees\n",
    "Fahrenheit and degrees Kelvin. The calculations needed to convert between different\n",
    "units of temperature can be found on the Internet.\n",
    "'''\n",
    "\n",
    "celsius = float(input(\" Enter Celsius (Degree) : \"))\n",
    "fahrenheit = ((9 * celsius) / 5) + 32\n",
    "kelvin = celsius + 273\n",
    "print (\" Temperature : {:.2f} Degree Celsius will be  {:.2f} Degree Fahrenheit and {:.2f} Kelvin.\".format(celsius,fahrenheit,kelvin))\n"
   ]
  },
  {
   "cell_type": "code",
   "execution_count": 74,
   "metadata": {},
   "outputs": [
    {
     "name": "stdout",
     "output_type": "stream",
     "text": [
      "Enter an integer ?33\n",
      "Enter an integer ?8\n",
      "Enter an integer ?18\n",
      "3 Integers 33 8 18 when sorted will be 8 18 and 33\n"
     ]
    }
   ],
   "source": [
    "# Solution to Exercise 33: Sort 3 Integers\n",
    "'''\n",
    "\n",
    "(Solved, 19 Lines)\n",
    "Create a program that reads three integers from the user and displays them in sorted\n",
    "order (from smallest to largest). Use the min and max functions to find the smallest\n",
    "and largest values. The middle value can be found by computing the sum of all three\n",
    "values, and then subtracting the minimum value and the maximum value.\n",
    "'''\n",
    "a = int(input(\"Enter an integer ?\"))\n",
    "b = int(input(\"Enter an integer ?\"))\n",
    "c = int(input(\"Enter an integer ?\"))\n",
    "\n",
    "first = min(a, b, c)\n",
    "last  = max(a, b, c)\n",
    "mid   = (a + b + c ) - (first + last)\n",
    "\n",
    "print(\"3 Integers {} {} {} when sorted will be {} {} and {}\".format(a, b, c, first, mid, last))"
   ]
  },
  {
   "cell_type": "code",
   "execution_count": 79,
   "metadata": {},
   "outputs": [
    {
     "name": "stdout",
     "output_type": "stream",
     "text": [
      "Enter the number of day old loaves: 14\n",
      "Regular price: 48.86\n",
      "Discount     : 29.32\n",
      "Total        : 19.54\n"
     ]
    }
   ],
   "source": [
    "#Solution to Exercise 34: Day Old Bread\n",
    "'''\n",
    "\n",
    "\n",
    "A bakery sells loaves of bread for $3.49 each. Day old bread is discounted by 60\n",
    "percent. Write a program that begins by reading the number of loaves of day old\n",
    "bread being purchased from the user. Then your program should display the regular\n",
    "price for the bread, the discount because it is a day old, and the total price. Each of\n",
    "these amounts should be displayed on its own line with an appropriate label. All of\n",
    "the values should be displayed using two decimal places, and the decimal points in\n",
    "all of the numbers should be aligned when reasonable values are entered by the user.\n",
    "'''\n",
    "##\n",
    "# Compute the price of a day old bread order.\n",
    "#\n",
    "BREAD_PRICE = 3.49\n",
    "DISCOUNT_RATE = 0.60\n",
    "# Read the number of loaves from the user\n",
    "num_loaves = int(input(\"Enter the number of day old loaves: \"))\n",
    "# Compute the discount and total price\n",
    "regular_price = num_loaves * BREAD_PRICE\n",
    "discount = regular_price * DISCOUNT_RATE\n",
    "total = regular_price - discount\n",
    "# Display the result\n",
    "print(\"Regular price: {:5.2f}\".format(regular_price))\n",
    "print(\"Discount     : {:5.2f}\".format(discount))\n",
    "print(\"Total        : {:5.2f}\".format(total))"
   ]
  },
  {
   "cell_type": "code",
   "execution_count": null,
   "metadata": {},
   "outputs": [],
   "source": []
  }
 ],
 "metadata": {
  "kernelspec": {
   "display_name": "Python 3",
   "language": "python",
   "name": "python3"
  },
  "language_info": {
   "codemirror_mode": {
    "name": "ipython",
    "version": 3
   },
   "file_extension": ".py",
   "mimetype": "text/x-python",
   "name": "python",
   "nbconvert_exporter": "python",
   "pygments_lexer": "ipython3",
   "version": "3.7.3"
  }
 },
 "nbformat": 4,
 "nbformat_minor": 2
}
