{
 "cells": [
  {
   "cell_type": "code",
   "execution_count": 2,
   "metadata": {},
   "outputs": [
    {
     "name": "stdout",
     "output_type": "stream",
     "text": [
      "Enter an integer . 37\n",
      "37 is an Odd number .\n"
     ]
    }
   ],
   "source": [
    "'''\n",
    "Exercise 35: Even or Odd?\n",
    "(Solved, 13 Lines)\n",
    "Write a program that reads an integer from the user. Then your program should\n",
    "display a message indicating whether the integer is even or odd.\n",
    "'''\n",
    "# Solution Exercise 35\n",
    "\n",
    "entered = int(input(\"Enter an integer . \"))\n",
    "if entered % 2 == 0:\n",
    "    print(\"{} is an Even number.\".format(entered))\n",
    "else:\n",
    "    print(\"{} is an Odd number .\".format(entered))\n",
    "    "
   ]
  },
  {
   "cell_type": "code",
   "execution_count": 8,
   "metadata": {},
   "outputs": [
    {
     "name": "stdout",
     "output_type": "stream",
     "text": [
      "Enter human years to be converted to Dog years. :?12\n",
      "12 human year is equivalent to 61 Dog years.\n"
     ]
    }
   ],
   "source": [
    "'''\n",
    "Exercise 36:Dog Years\n",
    "(22 Lines)\n",
    "It is commonly said that one human year is equivalent to 7 dog years. However this\n",
    "simple conversion fails to recognize that dogs reach adulthood in approximately two\n",
    "years. As a result, some people believe that it is better to count each of the first two\n",
    "human years as 10.5 dog years, and then count each additional human year as 4 dog\n",
    "years.\n",
    "Write a program that implements the conversion from human years to dog years\n",
    "described in the previous paragraph. Ensure that your program works correctly for\n",
    "conversions of less than two human years and for conversions of two or more human\n",
    "years. Your program should display an appropriate error message if the user enters\n",
    "a negative number.\n",
    "'''\n",
    "# solution Exercise 36 Dog years\n",
    "entered = int(input(\"Enter human years to be converted to Dog years. :?\"))\n",
    "if entered <= 0:\n",
    "    print(\"{} is an invalid value for conversion.Please enter number above 0. !\".format(entered))\n",
    "elif entered == 1:\n",
    "    print(\"{} human year is equivalent to 10.5 Dog years\".format(entered))\n",
    "elif entered == 2:\n",
    "    print(\"{} human year is equivalent to 21 Dog years.\".format(entered))\n",
    "else:\n",
    "    dogyear = 21 + (entered - 2) * 4\n",
    "    print(\"{} human year is equivalent to {} Dog years.\".format(entered, dogyear))\n",
    "    "
   ]
  },
  {
   "cell_type": "code",
   "execution_count": 11,
   "metadata": {},
   "outputs": [
    {
     "name": "stdout",
     "output_type": "stream",
     "text": [
      "Enter any letter for english alphabets. i\n",
      "i is a vowel. \n"
     ]
    }
   ],
   "source": [
    "'''\n",
    "Exercise 37:Vowel or Consonant\n",
    "(Solved, 16 Lines)\n",
    "In this exercise you will create a program that reads a letter of the alphabet from the\n",
    "user. If the user enters a, e, i, o or u then your program should display a message\n",
    "indicating that the entered letter is a vowel. If the user enters y then your program\n",
    "should display a message indicating that sometimes y is a vowel, and sometimes y is\n",
    "a consonant. Otherwise your program should display a message indicating that the\n",
    "letter is a consonant.\n",
    "'''\n",
    "char = input(\"Enter any letter for english alphabets. \")\n",
    "if char == \"a\" or char == \"e\"  or char == \"i\" or char == \"o\" or char == \"u\":\n",
    "    print(\"{} is a vowel. \".format(char))\n",
    "elif char == \"y\":\n",
    "    print(\"{} is sometime vowel and sometimes a consonant.\".format(char))\n",
    "else    :\n",
    "    print(\"{} is a consonant.\".format(char))"
   ]
  },
  {
   "cell_type": "code",
   "execution_count": 18,
   "metadata": {},
   "outputs": [
    {
     "name": "stdout",
     "output_type": "stream",
     "text": [
      "Enter number of sides. ?9\n",
      "Shape having 9 sides are called nonagon. :\n"
     ]
    }
   ],
   "source": [
    "'''\n",
    "Exercise 38:Name That Shape\n",
    "(Solved, 31 Lines)\n",
    "Write a program that determines the name of a shape from its number of sides. Read\n",
    "the number of sides from the user and then report the appropriate name as part of\n",
    "a meaningful message. Your program should support shapes with anywhere from 3\n",
    "up to (and including) 10 sides. If a number of sides outside of this range is entered\n",
    "then your program should display an appropriate error message.\n",
    "'''\n",
    "# Solutuion\n",
    "nsides = int(input(\"Enter number of sides. ?\"))\n",
    "name = \"\"\n",
    "if nsides == 3:\n",
    "    name = \"triangle\"\n",
    "elif nsides == 4:\n",
    "    name = \"quadrilateral\"\n",
    "elif nsides == 5:\n",
    "    name = \"pentagon\"\n",
    "elif nsides == 6:\n",
    "    name = \"hexagon\"\n",
    "elif nsides == 7:\n",
    "    name = \"heptagon\"\n",
    "elif nsides == 8:\n",
    "    name = \"octagon\"\n",
    "elif nsides == 9:\n",
    "    name = \"nonagon\"\n",
    "elif nsides == 10:\n",
    "    name = \"decagon\"\n",
    "# Display an error message or the name of the polygon\n",
    "if name == \"\":\n",
    "    print(\"Shape having {} sides  is not supported by this program.\".format(nsides))\n",
    "else:\n",
    "    print(\"Shape having {} sides are called {}.\".format(nsides, name))"
   ]
  },
  {
   "cell_type": "code",
   "execution_count": 2,
   "metadata": {},
   "outputs": [
    {
     "name": "stdout",
     "output_type": "stream",
     "text": [
      "Enter name of the month. ?Febuary\n",
      "There are 28 or 29 days. in the month of Febuary.\n"
     ]
    }
   ],
   "source": [
    "'''\n",
    "Exercise 39:Month Name to Number of Days\n",
    "(Solved, 18 Lines)\n",
    "The length of a month varies from 28 to 31 days. In this exercise you will create\n",
    "a program that reads the name of a month from the user as a string. Then your\n",
    "program should display the number of days in that month. Display “28 or 29 days”\n",
    "for February so that leap years are addressed.\n",
    "'''\n",
    "# solution\n",
    "\n",
    "month = input(\"Enter name of the month. ?\")\n",
    "if month == \"January\":\n",
    "    days = \"31 days\"\n",
    "elif month == \"Febuary\":\n",
    "    days = \"28 or 29 days.\"\n",
    "elif month == \"March\" or month ==\"May\" or month == \"July\"  or month == \"August\" or month == \"October\" or month == \"December\":\n",
    "    days = \"31 days\" \n",
    "else: days = \"30 days\"\n",
    "print(\"There are {} in the month of {}.\".format(days, month))    "
   ]
  },
  {
   "cell_type": "code",
   "execution_count": 11,
   "metadata": {},
   "outputs": [
    {
     "name": "stdout",
     "output_type": "stream",
     "text": [
      "Enter lenght of side 1 :?15\n",
      "Enter lenght of side 2 :?20\n",
      "Enter lenght of side 3 :?21\n",
      "Triangle haveing sides 15 20 21 is called scalene\n"
     ]
    }
   ],
   "source": [
    "# Solution to Exercise 41: Classifying Triangles\n",
    "'''\n",
    "\n",
    "(Solved, 21 Lines)\n",
    "Atriangle can be classified based on the lengths of its sides as equilateral, isosceles or\n",
    "scalene. All three sides of an equilateral triangle have the same length. An isosceles\n",
    "triangle has two sides that are the same length, and a third side that is a different\n",
    "length. If all of the sides have different lengths then the triangle is scalene.\n",
    "Write a program that reads the lengths of the three sides of a triangle from the\n",
    "user. Then display a message that states the triangle’s type.\n",
    "'''\n",
    "side1 = int(input(\"Enter lenght of side 1 :?\"))\n",
    "side2 = int(input(\"Enter lenght of side 2 :?\"))\n",
    "side3 = int(input(\"Enter lenght of side 3 :?\"))\n",
    "if side1 == side2 and side2 == side3 or side1 == side3 and side3 == side2 or side2 == side3 and side3 == side1:\n",
    "        answer = \"equilateral\"\n",
    "elif side1 == side2 or side2 == side3 or side1 == side3:\n",
    "    answer = \"iscosceles\"\n",
    "else:\n",
    "    answer = \"scalene\"\n",
    "print(\"Triangle haveing sides {} {} {} is called {}\".format(side1, side2, side3, answer))    "
   ]
  },
  {
   "cell_type": "code",
   "execution_count": null,
   "metadata": {},
   "outputs": [],
   "source": []
  }
 ],
 "metadata": {
  "kernelspec": {
   "display_name": "Python 3",
   "language": "python",
   "name": "python3"
  },
  "language_info": {
   "codemirror_mode": {
    "name": "ipython",
    "version": 3
   },
   "file_extension": ".py",
   "mimetype": "text/x-python",
   "name": "python",
   "nbconvert_exporter": "python",
   "pygments_lexer": "ipython3",
   "version": "3.7.3"
  }
 },
 "nbformat": 4,
 "nbformat_minor": 2
}
