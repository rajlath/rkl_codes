{
 "cells": [
  {
   "cell_type": "code",
   "execution_count": null,
   "metadata": {},
   "outputs": [],
   "source": [
    "#problem 1 \n",
    "nb_test = int(input())\n",
    "for _ in range(nb_test):\n",
    "    curr = int(input())\n",
    "    moves = 0\n",
    "    while curr % 5 == 0:\n",
    "        moves += 3\n",
    "        curr //= 5\n",
    "    while curr % 3 == 0:\n",
    "        moves += 2\n",
    "        curr //= 3\n",
    "    while curr % 2 == 0:\n",
    "        moves += 1\n",
    "        curr //= 2\n",
    "    if curr > 1:print(-1)\n",
    "    else:print(moves)    "
   ]
  },
  {
   "cell_type": "code",
   "execution_count": 2,
   "metadata": {},
   "outputs": [
    {
     "name": "stdout",
     "output_type": "stream",
     "text": [
      "1\n",
      "0\n"
     ]
    }
   ],
   "source": [
    "#problem CFR 566_2_A Fill Shape\n",
    "n = int(input())\n",
    "if n % 2 == 0:\n",
    "    print(2 * n // 2)\n",
    "else:\n",
    "    print(0)\n"
   ]
  },
  {
   "cell_type": "code",
   "execution_count": null,
   "metadata": {},
   "outputs": [],
   "source": []
  }
 ],
 "metadata": {
  "kernelspec": {
   "display_name": "Python 3",
   "language": "python",
   "name": "python3"
  },
  "language_info": {
   "codemirror_mode": {
    "name": "ipython",
    "version": 3
   },
   "file_extension": ".py",
   "mimetype": "text/x-python",
   "name": "python",
   "nbconvert_exporter": "python",
   "pygments_lexer": "ipython3",
   "version": "3.7.3"
  }
 },
 "nbformat": 4,
 "nbformat_minor": 2
}
