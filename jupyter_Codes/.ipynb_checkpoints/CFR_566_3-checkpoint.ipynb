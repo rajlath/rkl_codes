{
 "cells": [
  {
   "cell_type": "code",
   "execution_count": null,
   "metadata": {},
   "outputs": [],
   "source": [
    "nb_test = int(input())\n",
    "for _ in range(nb_test):\n",
    "    curr = int(input())\n",
    "    moves = 0\n",
    "    while curr % 5 == 0:\n",
    "        moves += 3\n",
    "        curr //= 5\n",
    "    while curr % 3 == 0:\n",
    "        moves += 2\n",
    "        curr //= 3\n",
    "    while curr % 2 == 0:\n",
    "        moves += 1\n",
    "        curr //= 2\n",
    "    if curr > 1:print(-1)\n",
    "    else:print(moves)    "
   ]
  }
 ],
 "metadata": {
  "kernelspec": {
   "display_name": "Python 3",
   "language": "python",
   "name": "python3"
  },
  "language_info": {
   "codemirror_mode": {
    "name": "ipython",
    "version": 3
   },
   "file_extension": ".py",
   "mimetype": "text/x-python",
   "name": "python",
   "nbconvert_exporter": "python",
   "pygments_lexer": "ipython3",
   "version": "3.7.0"
  }
 },
 "nbformat": 4,
 "nbformat_minor": 2
}
