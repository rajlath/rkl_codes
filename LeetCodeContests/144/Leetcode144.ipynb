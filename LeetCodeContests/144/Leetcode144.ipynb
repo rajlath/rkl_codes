{
 "cells": [
  {
   "cell_type": "code",
   "execution_count": 8,
   "metadata": {},
   "outputs": [
    {
     "name": "stdout",
     "output_type": "stream",
     "text": [
      "[10, 55, 45, 25, 25]\n"
     ]
    }
   ],
   "source": [
    "class Solution:\n",
    "    def corpFlightBookings(self, bookings, n):\n",
    "        diffs = [0] * (n + 2)\n",
    "        for i in bookings:\n",
    "            left, rite, seats = i\n",
    "            diffs[left] += seats\n",
    "            diffs[rite + 1] -= seats\n",
    "        #print(diffs)  \n",
    "        answer = [0] * (n + 1)\n",
    "        for i in range(1, n + 1):\n",
    "            if i == 1:\n",
    "                answer[i] = diffs[i]\n",
    "            else:\n",
    "                answer[i] = diffs[i] + answer[i-1]\n",
    "        return answer[1:]        \n",
    "        \n",
    "        \n",
    "        \n",
    "#[10,55,45,25,25]       \n",
    "        \n",
    "print(Solution().corpFlightBookings([[1,2,10],[2,3,20],[2,5,25]], 5)        )"
   ]
  },
  {
   "cell_type": "code",
   "execution_count": 21,
   "metadata": {},
   "outputs": [
    {
     "name": "stdout",
     "output_type": "stream",
     "text": [
      "1 1\n",
      "2 2\n",
      "2 1\n",
      "2 2\n",
      "2 1\n",
      "2 0\n"
     ]
    },
    {
     "data": {
      "text/plain": [
       "[0, 1, 1, 1, 1, 0]"
      ]
     },
     "execution_count": 21,
     "metadata": {},
     "output_type": "execute_result"
    }
   ],
   "source": [
    "class Solution(object):\n",
    "    def maxDepthAfterSplit(self, seq):\n",
    "        \"\"\"\n",
    "        :type seq: str\n",
    "        :rtype: List[int]\n",
    "        \"\"\"\n",
    "        # compute depth\n",
    "        d = h = 0\n",
    "        for c in seq:\n",
    "            if c == ')': h -= 1\n",
    "            if c == '(': h += 1\n",
    "            d = max(d, h)\n",
    "            print(d, h)\n",
    "        # cut depth in half\n",
    "        d >>= 1\n",
    "        \n",
    "        r = [0 for _ in seq]\n",
    "        for i, c in enumerate(seq):\n",
    "            if c == ')': h -= 1\n",
    "            if h >= d: r[i] = 1\n",
    "            if c == '(': h += 1\n",
    "        return r\n",
    "        \n",
    "        \n",
    "Solution().maxDepthAfterSplit(\"(()())\")        "
   ]
  },
  {
   "cell_type": "code",
   "execution_count": null,
   "metadata": {},
   "outputs": [],
   "source": []
  },
  {
   "cell_type": "code",
   "execution_count": null,
   "metadata": {},
   "outputs": [],
   "source": []
  }
 ],
 "metadata": {
  "kernelspec": {
   "display_name": "Python 3",
   "language": "python",
   "name": "python3"
  },
  "language_info": {
   "codemirror_mode": {
    "name": "ipython",
    "version": 3
   },
   "file_extension": ".py",
   "mimetype": "text/x-python",
   "name": "python",
   "nbconvert_exporter": "python",
   "pygments_lexer": "ipython3",
   "version": "3.7.3"
  }
 },
 "nbformat": 4,
 "nbformat_minor": 2
}
