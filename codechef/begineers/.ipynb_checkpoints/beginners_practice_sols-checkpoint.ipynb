{
 "cells": [
  {
   "cell_type": "code",
   "execution_count": 4,
   "metadata": {},
   "outputs": [
    {
     "name": "stdout",
     "output_type": "stream",
     "text": [
      "42 120\n",
      "120.0\n"
     ]
    }
   ],
   "source": [
    "# ATM Problem Code: HS08TEST\n",
    "# rklath oorja.halt@gmail.com 16:20 10.07.2019\n",
    "withdraw, balance = [float(x) for x in input().split()]\n",
    "if withdraw % 5 == -0 and balance - withdraw - 0.5 > 0:\n",
    "    balance = balance - withdraw - 0.5\n",
    "print(balance)    "
   ]
  },
  {
   "cell_type": "code",
   "execution_count": null,
   "metadata": {},
   "outputs": [],
   "source": []
  },
  {
   "cell_type": "code",
   "execution_count": 5,
   "metadata": {},
   "outputs": [
    {
     "name": "stdout",
     "output_type": "stream",
     "text": [
      "7 3\n",
      "1\n",
      "51\n",
      "966369\n",
      "7\n",
      "9\n",
      "999996\n",
      "11\n",
      "4\n"
     ]
    }
   ],
   "source": [
    "# Enormous Input Test Problem Code: INTEST\n",
    "# # rklath oorja.halt@gmail.com 16:34 10.07.2019\n",
    "\n",
    "n, k = [int(x) for x in input().split()]\n",
    "answer = 0\n",
    "for _ in range(n):\n",
    "    curr = float(input())\n",
    "    answer += (curr % k == 0)\n",
    "print(answer)        "
   ]
  },
  {
   "cell_type": "code",
   "execution_count": 6,
   "metadata": {},
   "outputs": [
    {
     "name": "stdout",
     "output_type": "stream",
     "text": [
      "3\n",
      "1 2\n",
      "3\n",
      "100 200\n",
      "300\n",
      "10 40\n",
      "50\n"
     ]
    }
   ],
   "source": [
    "# Add Two Numbers Problem Code: FLOW001\n",
    "# rklath oorja.halt@gmail.com 16:42 10.07.2019\n",
    "\n",
    "nb_test = int(input())\n",
    "for _ in range(nb_test):\n",
    "    print(sum([int(x) for x in input().split()]))"
   ]
  },
  {
   "cell_type": "code",
   "execution_count": 7,
   "metadata": {},
   "outputs": [
    {
     "name": "stdout",
     "output_type": "stream",
     "text": [
      "4\n",
      "1\n",
      "1\n",
      "2\n",
      "2\n",
      "5\n",
      "120\n",
      "3\n",
      "6\n"
     ]
    }
   ],
   "source": [
    "# Small factorials Problem Code: FCTRL2\n",
    "# rklath oorja.halt@gmail.com 16:44 10.07.2019\n",
    "nb_test = int(input())\n",
    "for _ in range(nb_test):\n",
    "    curr = int(input())\n",
    "    answer = 1\n",
    "    for i in range(1, curr+1):\n",
    "        answer *= i\n",
    "    print(answer)    \n",
    "        "
   ]
  },
  {
   "cell_type": "code",
   "execution_count": 10,
   "metadata": {},
   "outputs": [
    {
     "name": "stdout",
     "output_type": "stream",
     "text": [
      "4\n",
      "8\n",
      "42\n",
      "17\n",
      "99\n",
      "8\n",
      "17\n",
      "42\n",
      "99\n"
     ]
    }
   ],
   "source": [
    "# Turbo Sort Problem Code: TSORT\n",
    "# rklath oorja.halt@gmail.com 16:48 10.07.2019\n",
    "\n",
    "given = [int(input()) for _ in range(int(input()))]\n",
    "given = sorted(given)\n",
    "print(\"\\n\".join(map(str, given)))\n"
   ]
  },
  {
   "cell_type": "code",
   "execution_count": 11,
   "metadata": {},
   "outputs": [
    {
     "name": "stdout",
     "output_type": "stream",
     "text": [
      "3\n",
      "12345\n",
      "15\n",
      "864\n",
      "18\n",
      "123456789\n",
      "45\n"
     ]
    }
   ],
   "source": [
    "# Sum of Digits Problem Code: FLOW006\n",
    "# rklath oorja.halt@gmail.com 16:48 10.07.2019\n",
    "\n",
    "dig_sum = lambda x:sum([int(y) for y in x])\n",
    "for _ in range(int(input())):\n",
    "    print(dig_sum(input()))\n",
    "\n",
    "\n"
   ]
  },
  {
   "cell_type": "code",
   "execution_count": null,
   "metadata": {},
   "outputs": [],
   "source": [
    "# Find Remainder Problem Code: FLOW002\n",
    "# rklath oorja.halt@gmail.com 16:56 10.07.2019\n",
    "\n",
    "for _ in range(int(input())):\n",
    "    a,b = [int(x) for x in input().split()]\n",
    "    print(a % b)\n"
   ]
  },
  {
   "cell_type": "code",
   "execution_count": 2,
   "metadata": {},
   "outputs": [
    {
     "name": "stdout",
     "output_type": "stream",
     "text": [
      "5\n",
      "140 82\n",
      "89 134\n",
      "90 110\n",
      "112 106\n",
      "88 90\n",
      "1 58\n"
     ]
    },
    {
     "data": {
      "text/plain": [
       "'\\n5\\n140 82\\n89 134\\n90 110\\n112 106\\n88 90\\nOutput:\\n\\n1 58\\n'"
      ]
     },
     "execution_count": 2,
     "metadata": {},
     "output_type": "execute_result"
    }
   ],
   "source": [
    "# The Lead Game Problem Code: TLG\n",
    "# rklath oorja.halt@gmail.com 17:04 10.07.2019\n",
    "\n",
    "'''\n",
    "5\n",
    "140 82\n",
    "89 134\n",
    "90 110\n",
    "112 106\n",
    "88 90\n",
    "Output:\n",
    "\n",
    "1 58\n",
    "'''\n",
    "leader = 0\n",
    "lead   = 0\n",
    "acumm, bcumm = 0, 0\n",
    "for _ in range(int(input())):\n",
    "    ac, bc = [int(x) for x in input().split()]\n",
    "    acumm += ac\n",
    "    bcumm += bc\n",
    "    if acumm > bcumm:\n",
    "        curr_lead = acumm - bcumm\n",
    "        if curr_lead > lead:\n",
    "            lead = curr_lead\n",
    "            leader = 1\n",
    "    else:\n",
    "        curr_lead = bcumm  - acumm\n",
    "        if curr_lead > lead:\n",
    "            lead = curr_lead\n",
    "            leader = 2\n",
    "print(leader, lead)            \n",
    "'''\n",
    "5\n",
    "140 82\n",
    "89 134\n",
    "90 110\n",
    "112 106\n",
    "88 90\n",
    "Output:\n",
    "\n",
    "1 58\n",
    "'''        \n",
    "\n"
   ]
  },
  {
   "cell_type": "code",
   "execution_count": 3,
   "metadata": {},
   "outputs": [
    {
     "name": "stdout",
     "output_type": "stream",
     "text": [
      "2\n",
      "2\n",
      "2\n",
      "5\n",
      "3\n"
     ]
    }
   ],
   "source": [
    "# Packaging Cupcakes Problem Code: MUFFINS3\n",
    "# rklath oorja.halt@gmail.com 17:18 10.07.2019\n",
    "\n",
    "for _ in range(int(input())):\n",
    "    print( int(input()) // 2 + 1)\n"
   ]
  },
  {
   "cell_type": "code",
   "execution_count": 4,
   "metadata": {},
   "outputs": [
    {
     "name": "stdout",
     "output_type": "stream",
     "text": [
      "3\n",
      "1234\n",
      "5\n",
      "242323\n",
      "5\n",
      "1212121212\n",
      "3\n"
     ]
    }
   ],
   "source": [
    "# First and Last Digit Problem Code: FLOW004\n",
    "# rklath oorja.halt@gmail.com 17:21 10.07.2019\n",
    "\n",
    "for _ in range(int(input())):\n",
    "    curr = input()\n",
    "    print(int(curr[0]) + int(curr[-1]))\n"
   ]
  },
  {
   "cell_type": "code",
   "execution_count": 7,
   "metadata": {},
   "outputs": [
    {
     "name": "stdout",
     "output_type": "stream",
     "text": [
      "1\n",
      "31203\n",
      "30213\n"
     ]
    }
   ],
   "source": [
    "# Reverse The Number Problem Code: FLOW007\n",
    "# rklath oorja.halt@gmail.com 17:24 10.07.2019\n",
    "\n",
    "for _ in range(int(input())):\n",
    "    curr = list(input())\n",
    "    rets = ''\n",
    "    while curr:\n",
    "        rets += curr.pop()\n",
    "    print(int(rets))    "
   ]
  },
  {
   "cell_type": "code",
   "execution_count": 21,
   "metadata": {},
   "outputs": [
    {
     "name": "stdout",
     "output_type": "stream",
     "text": [
      "1\n",
      "4096\n",
      "2\n"
     ]
    }
   ],
   "source": [
    "# Ciel and Receipt Problem Code: CIELRCPT\n",
    "# rklath oorja.halt@gmail.com 17:32 10.07.2019\n",
    "\n",
    "prices = [pow(2,i) for i in range(12)][::-1]\n",
    "\n",
    "for _ in range(int(input())):\n",
    "    curr = int(input())\n",
    "    menu_cnt = 0\n",
    "    price = prices[:]\n",
    "    i = 0\n",
    "    while curr != 0:\n",
    "        if curr >= price[i]:\n",
    "            curr -= price[i]\n",
    "            menu_cnt += 1            \n",
    "        else:\n",
    "            i += 1\n",
    "    print(menu_cnt)         \n",
    "            \n",
    "            \n",
    "            \n"
   ]
  },
  {
   "cell_type": "code",
   "execution_count": 1,
   "metadata": {},
   "outputs": [
    {
     "name": "stdout",
     "output_type": "stream",
     "text": [
      "1\n",
      "11 23 42\n",
      "23\n"
     ]
    }
   ],
   "source": [
    "# Second Largest Problem Code: FLOW017\n",
    "# rklath oorja.halt@gmail.com 17:32 10.07.2019\n",
    "\n",
    "for _ in range(int(input())):\n",
    "    print(sorted([int(x) for x in input().split()])[1])"
   ]
  },
  {
   "cell_type": "code",
   "execution_count": 2,
   "metadata": {},
   "outputs": [
    {
     "name": "stdout",
     "output_type": "stream",
     "text": [
      "1\n",
      "19 17\n",
      "19 36\n"
     ]
    }
   ],
   "source": [
    "# Chef and Remissness Problem Code: REMISS\n",
    "# rklath oorja.halt@gmail.com 18:10 10.07.2019\n",
    "for _ in range(int(input())):\n",
    "    a, b = [int(x) for x in input().split()]\n",
    "    print(max(a, b), (a + b))"
   ]
  },
  {
   "cell_type": "code",
   "execution_count": 7,
   "metadata": {},
   "outputs": [
    {
     "name": "stdout",
     "output_type": "stream",
     "text": [
      "1\n",
      "20\n",
      "2432902008176640000\n"
     ]
    }
   ],
   "source": [
    "# Small Factorial Problem Code: FLOW018\n",
    "# rklath oorja.halt@gmail.com 18:15 10.07.2019\n",
    "'''\n",
    "factorials = {i:0 for i in range(21)}\n",
    "factorials[1] = 1\n",
    "for i in range(2, 21):\n",
    "    factorials[i] = factorials[i-1] * i\n",
    "    \n",
    "for _ in range(int(input()))    :\n",
    "    print(factorials[int(input())])\n",
    "'''\n",
    "def factorial(n):\n",
    "    if n < 2:return 1\n",
    "    else:return factorial(n - 1) * n\n",
    "    \n",
    "for _ in range(int(input()))    :\n",
    "    print(factorial(int(input())))\n",
    "\n",
    "   "
   ]
  },
  {
   "cell_type": "code",
   "execution_count": 8,
   "metadata": {},
   "outputs": [
    {
     "name": "stdout",
     "output_type": "stream",
     "text": [
      "4\n",
      "8\n",
      "What an obedient servant you are!\n",
      "36\n",
      "-1\n",
      "1\n",
      "What an obedient servant you are!\n",
      "10\n",
      "-1\n"
     ]
    }
   ],
   "source": [
    "# Servant Problem Code: FLOW008\n",
    "# rklath oorja.halt@gmail.com 18:29 10.07.2019\n",
    "\n",
    "for _ in range(int(input())):\n",
    "    print([-1, 'What an obedient servant you are!'][int(input())<10])"
   ]
  },
  {
   "cell_type": "code",
   "execution_count": 14,
   "metadata": {},
   "outputs": [
    {
     "name": "stdout",
     "output_type": "stream",
     "text": [
      "4\n",
      "1 4 3 2\n",
      "ambiguous\n",
      "5\n",
      "1 2 4 5 3\n",
      "not ambiguous\n",
      "1\n",
      "1\n",
      "ambiguous\n",
      "0\n"
     ]
    }
   ],
   "source": [
    "# Ambiguous Permutations Problem Code: PERMUT2\n",
    "# rklath oorja.halt@gmail.com 18:29 10.07.2019\n",
    "n = int(input())\n",
    "while n != 0:\n",
    "    given = [int(x) for x in input().split()]\n",
    "    indx  = [0] * n\n",
    "    for i in range(n):\n",
    "        indx[given[i] - 1] = i + 1\n",
    "    print([\"not ambiguous\", \"ambiguous\"][given == indx]) \n",
    "    n = int(input())\n",
    "\n"
   ]
  },
  {
   "cell_type": "code",
   "execution_count": 3,
   "metadata": {},
   "outputs": [
    {
     "name": "stdout",
     "output_type": "stream",
     "text": [
      "3\n",
      "1200\n",
      "12\n",
      "500\n",
      "5\n",
      "242\n",
      "7\n"
     ]
    }
   ],
   "source": [
    "# Smallest Numbers of Notes Problem Code: FLOW005\n",
    "# rklath oorja.halt@gmail.com 18:29 10.07.2019\n",
    "coins = [1, 2, 5, 10, 50, 100]\n",
    "for _ in range(int(input())):\n",
    "    amount = int(input())\n",
    "    need   = 0\n",
    "    i = 5\n",
    "    while i >= 0:\n",
    "        if amount >= coins[i]:\n",
    "            need += 1\n",
    "            amount -= coins[i]\n",
    "        else:\n",
    "            i -= 1\n",
    "        if amount == 0:break        \n",
    "    print(need)             "
   ]
  },
  {
   "cell_type": "code",
   "execution_count": 7,
   "metadata": {},
   "outputs": [
    {
     "name": "stdout",
     "output_type": "stream",
     "text": [
      "3\n",
      "1200\n",
      "12\n",
      "500\n",
      "5\n",
      "242\n",
      "7\n"
     ]
    }
   ],
   "source": [
    "# Smallest Numbers of Notes Problem Code: FLOW005\n",
    "# version 2\n",
    "coins = [1, 2, 5, 10, 50, 100][::-1]\n",
    "for _ in range(int(input())):\n",
    "    amount = int(input())\n",
    "    need = 0\n",
    "    for i in coins:\n",
    "        curr, amount = divmod(amount, i)\n",
    "        need += curr\n",
    "    print(need)   "
   ]
  },
  {
   "cell_type": "code",
   "execution_count": 1,
   "metadata": {},
   "outputs": [
    {
     "name": "stdout",
     "output_type": "stream",
     "text": [
      "3\n",
      "10 20\n",
      "<\n",
      "20 10\n",
      ">\n",
      "20 20\n",
      "=\n"
     ]
    }
   ],
   "source": [
    "# Chef And Operators Problem Code: CHOPRT\n",
    "# rklath oorja.halt@gmail.com 18:29 10.07.2019\n",
    "for _ in range(int(input())):\n",
    "    a, b= [int(x) for x in input().split()]\n",
    "    status = a - b\n",
    "    if status == 0:print(\"=\")\n",
    "    elif status > 0: print(\">\")  \n",
    "    else:print(\"<\")    \n"
   ]
  },
  {
   "cell_type": "code",
   "execution_count": 3,
   "metadata": {},
   "outputs": [
    {
     "name": "stdout",
     "output_type": "stream",
     "text": [
      "3\n",
      "2 4 4\n",
      "1 1\n",
      "3 2 3 4\n",
      "2 3 4\n",
      "4 3 15 9 6\n",
      "1 5 3 2\n"
     ]
    }
   ],
   "source": [
    "# Cutting Recipes Problem Code: RECIPE\n",
    "# rklath oorja.halt@gmail.com 19:54 10.07.2019\n",
    "from math import gcd\n",
    "for _ in range(int(input())):\n",
    "    lens, *arr = [int(x) for x in input().split()]\n",
    "    if lens == 1:\n",
    "        print(arr[0])\n",
    "    else:\n",
    "        gc_d = gcd(arr[0], arr[1])\n",
    "        for i in range(2, lens):\n",
    "            gc_d = gcd(gc_d, arr[i])\n",
    "        ans = [x//gc_d for x in arr]    \n",
    "        print(*ans)\n",
    "\n"
   ]
  },
  {
   "cell_type": "code",
   "execution_count": 9,
   "metadata": {},
   "outputs": [
    {
     "name": "stdout",
     "output_type": "stream",
     "text": [
      "1\n",
      "120\n",
      "NO\n"
     ]
    }
   ],
   "source": [
    "# Valid Triangles Problem Code: FLOW013\n",
    "# rklath oorja.halt@gmail.com 19:54 10.07.2019\n",
    "for _ in range(int(input())):\n",
    "    print([\"NO\", \"YES\"][sum([int(x) for x in input().split()]) == 180])\n"
   ]
  },
  {
   "cell_type": "code",
   "execution_count": 8,
   "metadata": {},
   "outputs": [
    {
     "name": "stdout",
     "output_type": "stream",
     "text": [
      "3\n",
      "331\n",
      "looses\n",
      "666\n",
      "wins\n",
      "454\n",
      "wins\n"
     ]
    }
   ],
   "source": [
    "# The Block Game Problem Code: PALL01\n",
    "# rklath oorja.halt@gmail.com 19:54 10.07.2019\n",
    "for _ in range(int(input())):\n",
    "    curr = input()\n",
    "    print([\"losses\", \"wins\"][curr == curr[::-1]])"
   ]
  },
  {
   "cell_type": "code",
   "execution_count": 12,
   "metadata": {},
   "outputs": [
    {
     "name": "stdout",
     "output_type": "stream",
     "text": [
      "3\n",
      "2 3 4\n",
      "READY FOR BATTLE\n"
     ]
    }
   ],
   "source": [
    "# Mahasena Problem Code: AMR15A\n",
    "# rklath oorja.halt@gmail.com 19:54 10.07.2019\n",
    "\n",
    "lens = int(input())\n",
    "arms = [int(x) for x in input().split()]\n",
    "status = [0, 0]\n",
    "for i in arms:\n",
    "    status[i%2] += 1\n",
    "print([\"NOT READY\", \"READY FOR BATTLE\"][status[0] > status[1]])    \n"
   ]
  },
  {
   "cell_type": "code",
   "execution_count": 16,
   "metadata": {},
   "outputs": [
    {
     "name": "stdout",
     "output_type": "stream",
     "text": [
      "5\n",
      "23\n",
      "Yes\n",
      "13\n",
      "Yes\n",
      "20\n",
      "No\n",
      "1000\n",
      "No\n",
      "99991\n",
      "Yes\n"
     ]
    }
   ],
   "source": [
    "# Primality Test Problem Code: PRB01\n",
    "# rklath oorja.halt@gmail.com 20:25 10.07.2019\n",
    "import math\n",
    "def is_it_prime(n):\n",
    "    if n < 2: return False\n",
    "    elif n == 2:return True\n",
    "    elif n % 2 == 0: return False\n",
    "    else:\n",
    "        limit = int(math.sqrt(n))\n",
    "        for i in range(3, limit+1, 2):\n",
    "            if n % i == 0:return False\n",
    "    return True\n",
    "\n",
    "for _ in range(int(input())):\n",
    "    curr = int(input())\n",
    "    print([\"no\", \"yes\"][is_it_prime(curr)])\n",
    "    \n"
   ]
  },
  {
   "cell_type": "code",
   "execution_count": 18,
   "metadata": {},
   "outputs": [
    {
     "name": "stdout",
     "output_type": "stream",
     "text": [
      "1\n",
      "((a+t)*((b+(a+c))^(c+d)))\n",
      "at+bac++cd+^*\n"
     ]
    }
   ],
   "source": [
    "# Transform the Expression Problem Code: ONP\n",
    "# rklath oorja.halt@gmail.com 20:25 10.07.2019\n",
    "\n",
    "operators = ['+', '-', '*', '/', '%', '^', '$']\n",
    "for _ in range(int(input())):\n",
    "    expr = input()\n",
    "    equi = ''\n",
    "    stck = []\n",
    "    for i in expr:\n",
    "        if i == \"(\":\n",
    "            stck.append(i)\n",
    "        elif i == \")\":\n",
    "            while stck[-1] != \"(\":\n",
    "                equi+= stck.pop()\n",
    "            stck.pop()\n",
    "        elif i in operators:\n",
    "            stck.append(i)\n",
    "        else:\n",
    "            equi += i\n",
    "    print(equi)        \n",
    "            \n",
    "                    \n"
   ]
  },
  {
   "cell_type": "code",
   "execution_count": 19,
   "metadata": {},
   "outputs": [
    {
     "name": "stdout",
     "output_type": "stream",
     "text": [
      "3\n",
      "B\n",
      "BattleShip\n",
      "c\n",
      "Cruiser\n",
      "D\n",
      "Destroyer\n"
     ]
    }
   ],
   "source": [
    "# Id and Ship Problem Code: FLOW010\n",
    "ids = [\"Bb\", \"Cc\", \"Dd\", \"Ff\"]\n",
    "arm =[\"BattleShip\", \"Cruiser\", \"Destroyer\", \"Frigate\"]\n",
    "for _ in range(int(input())):\n",
    "    curr = input()\n",
    "    for i, v in enumerate(ids):\n",
    "        if curr in v:\n",
    "            print(arm[i])\n",
    "            "
   ]
  },
  {
   "cell_type": "code",
   "execution_count": 20,
   "metadata": {},
   "outputs": [
    {
     "name": "stdout",
     "output_type": "stream",
     "text": [
      "1\n",
      "4\n",
      "5 3 1 4\n",
      "4\n"
     ]
    }
   ],
   "source": [
    "# The Smallest Pair Problem Code: SMPAIR\n",
    "for _ in range(int(input())):\n",
    "    lens = int(input())\n",
    "    arrs = sorted([int(x) for x in input().split()])\n",
    "    print(arrs[0] + arrs[1])\n",
    "    "
   ]
  },
  {
   "cell_type": "code",
   "execution_count": 28,
   "metadata": {},
   "outputs": [
    {
     "name": "stdout",
     "output_type": "stream",
     "text": [
      "1\n",
      "1260 340\n",
      "385560.000000\n"
     ]
    }
   ],
   "source": [
    "# Total Expenses Problem Code: FLOW009\n",
    "\n",
    "for _ in range(int(input())):\n",
    "    qty, price = [int(x) for x in input().split()]\n",
    "    cost = qty * price\n",
    "    cost -=  cost * 0.10 * ((qty - 1000) > 0)\n",
    "    print(\"{:.6f}\".format(cost))\n",
    "    "
   ]
  },
  {
   "cell_type": "code",
   "execution_count": 29,
   "metadata": {},
   "outputs": [
    {
     "name": "stdout",
     "output_type": "stream",
     "text": [
      "3\n",
      "120 140\n",
      "20 840\n",
      "10213 312\n",
      "1 3186456\n",
      "12 32\n",
      "4 96\n"
     ]
    }
   ],
   "source": [
    "# GCD and LCM Problem Code: FLOW016\n",
    "\n",
    "# define gcd function\n",
    "def gcd(x, y):\n",
    "   \"\"\"This function implements the Euclidian algorithm\n",
    "   to find G.C.D. of two numbers\"\"\"\n",
    "\n",
    "   while(y):\n",
    "       x, y = y, x % y\n",
    "\n",
    "   return x\n",
    "\n",
    "# define lcm function\n",
    "def lcm(x, y):\n",
    "   \"\"\"This function takes two\n",
    "   integers and returns the L.C.M.\"\"\"\n",
    "\n",
    "   lcm = (x*y)//gcd(x,y)\n",
    "   return lcm\n",
    "\n",
    "for _ in range(int(input())):\n",
    "    a, b = [int(x) for x in input().split()]\n",
    "    print(gcd(a, b), lcm(a, b))"
   ]
  },
  {
   "cell_type": "code",
   "execution_count": 7,
   "metadata": {},
   "outputs": [
    {
     "name": "stdout",
     "output_type": "stream",
     "text": [
      "1\n",
      "2\n",
      "0 0\n",
      "0 2\n",
      "2 1\n",
      "[[0, 0], [0, 2], [2, 1]]\n",
      "no\n"
     ]
    }
   ],
   "source": [
    "# Three Way Communications Problem Code: COMM3\n",
    "# TeraTau oorja.halt@gmail.com 08:34 11:07:2019\n",
    "from math import sqrt\n",
    "get_distance = lambda x, y: sqrt(pow(x[0] - y[0], 2) + pow(x[1] - y[1], 2))\n",
    "\n",
    "for _ in range(int(input())):\n",
    "    limit = int(input())\n",
    "    points= [[int(x) for x in input().split()] for _ in range(3)]\n",
    "    #print(points)\n",
    "    dist1 = get_distance(points[0], points[1])\n",
    "    dist2 = get_distance(points[0], points[2])\n",
    "    dist3 = get_distance(points[1], points[2])\n",
    "    \n",
    "    ans = \"yes\"\n",
    "    \n",
    "    if ( (dist1 > limit) and ((dist2 > limit) or (dist3 > limit)) or\n",
    "         (dist2 > limit) and ((dist1 > limit) or (dist3 > limit)) or\n",
    "         (dist3 > limit) and ((dist1 > limit) or (dist2 > limit)) ): ans = \"no\"\n",
    "    \n",
    "    print(ans)\n",
    "    "
   ]
  },
  {
   "cell_type": "code",
   "execution_count": 8,
   "metadata": {},
   "outputs": [
    {
     "name": "stdout",
     "output_type": "stream",
     "text": [
      "3\n",
      "5\n",
      "NNNYY\n",
      "NOT INDIAN\n",
      "6\n",
      "NINNII\n",
      "INDIAN\n",
      "5\n",
      "NNNNN\n",
      "NOT SURE\n"
     ]
    }
   ],
   "source": [
    "# Tanu and Head-bob Problem Code: HEADBOB\n",
    "# TeraTau oorja.halt@gmail.com 09:00 11:07:2019\n",
    "\n",
    "for _ in range(int(input())):\n",
    "    _ = int(input())\n",
    "    curr = input()\n",
    "    if \"I\" in curr and \"Y\" not in curr:\n",
    "        ans = \"INDIAN\"\n",
    "    elif \"N\" in curr and \"Y\" in curr and \"I\" not in curr:\n",
    "        ans = \"NOT INDIAN\"\n",
    "    else:\n",
    "        ans = \"NOT SURE\"\n",
    "    print(ans)    \n",
    "        \n",
    "        "
   ]
  },
  {
   "cell_type": "code",
   "execution_count": null,
   "metadata": {},
   "outputs": [],
   "source": []
  }
 ],
 "metadata": {
  "kernelspec": {
   "display_name": "Python 3",
   "language": "python",
   "name": "python3"
  },
  "language_info": {
   "codemirror_mode": {
    "name": "ipython",
    "version": 3
   },
   "file_extension": ".py",
   "mimetype": "text/x-python",
   "name": "python",
   "nbconvert_exporter": "python",
   "pygments_lexer": "ipython3",
   "version": "3.7.3"
  }
 },
 "nbformat": 4,
 "nbformat_minor": 2
}
