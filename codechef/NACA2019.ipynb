{
 "cells": [
  {
   "cell_type": "code",
   "execution_count": null,
   "metadata": {},
   "outputs": [],
   "source": [
    "#Strange game \n",
    "#https://www.codechef.com/NACA2019/problems/STGAME\n",
    "nb_test = int(input())\n",
    "for _ in range(nb_test):\n",
    "    lens = int(input())\n",
    "    ayushi = sorted([int(x) for x in input().split()])\n",
    "    daksh  = sorted([int(x) for x in input().split()])\n",
    "    if sum(daksh[-2:]) > sum(ayushi[-2:]):\n",
    "        print(“DAKSH”)\n",
    "    else:print(“AAYUSHI”)    \n"
   ]
  },
  {
   "cell_type": "code",
   "execution_count": null,
   "metadata": {},
   "outputs": [],
   "source": [
    "1\n",
    "5\n",
    "1 2 3 4 5\n",
    "-1 -2 -3 -4 -5\n",
    "\n",
    "\n"
   ]
  }
 ],
 "metadata": {
  "kernelspec": {
   "display_name": "Python 3",
   "language": "python",
   "name": "python3"
  }
 },
 "nbformat": 4,
 "nbformat_minor": 2
}
