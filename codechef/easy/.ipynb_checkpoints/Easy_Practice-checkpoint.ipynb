{
 "cells": [
  {
   "cell_type": "code",
   "execution_count": 2,
   "metadata": {},
   "outputs": [
    {
     "name": "stdout",
     "output_type": "stream",
     "text": [
      "1\n",
      "5\n",
      "4 9 1 32 13\n",
      "3\n"
     ]
    }
   ],
   "source": [
    "#Racing Horses Problem Code: HORSES\n",
    "for _ in range(int(input())):\n",
    "    lens = int(input())\n",
    "    elem = sorted([int(x) for x in input().split()])\n",
    "    mins = 10 ** 9 +  9\n",
    "    for i in range(1, lens):\n",
    "        mins = min(mins, elem[i] - elem[i-1])\n",
    "    print(mins)    "
   ]
  },
  {
   "cell_type": "code",
   "execution_count": 1,
   "metadata": {},
   "outputs": [
    {
     "name": "stdout",
     "output_type": "stream",
     "text": [
      "1\n",
      "3 2\n",
      "3 2\n",
      "1\n",
      "\n"
     ]
    }
   ],
   "source": [
    "# Cleaning Up Problem Code: CLEANUP\n",
    "\n",
    "for _ in range(int(input())):\n",
    "    n, m = [int(x) for x in input().split()]\n",
    "    i = 1\n",
    "    jobs = [int(x) for x in input().split()]\n",
    "    todo = [x for x in range(1, n+1) if x not in jobs]\n",
    "    chef, subs = [], []\n",
    "    for x in todo:\n",
    "        if i:\n",
    "            chef.append(x)            \n",
    "        else:\n",
    "            subs.append(x)\n",
    "        i = 1 - i\n",
    "    print(*chef)  if len(chef) else print() \n",
    "    print(*subs)  if len(subs) else print()"
   ]
  },
  {
   "cell_type": "code",
   "execution_count": 1,
   "metadata": {},
   "outputs": [
    {
     "name": "stdout",
     "output_type": "stream",
     "text": [
      "1\n",
      "4\n",
      "1 3 4 2\n",
      "[0, 1, 3, 4, 2] [0, 1, 2, 3, 4]\n",
      "2\n",
      "3\n"
     ]
    }
   ],
   "source": [
    "# Uncle Johny Problem Code: JOHNY\n",
    "for _ in range(int(input())):\n",
    "    lens = int(input())\n",
    "    elem = [0] + [int(x) for x in input().split()]\n",
    "    elems = sorted(elem)\n",
    "    #print(elem, elems)\n",
    "    k  = int(input())\n",
    "    print(elems.index(elem[k]))"
   ]
  },
  {
   "cell_type": "code",
   "execution_count": 24,
   "metadata": {},
   "outputs": [
    {
     "name": "stdout",
     "output_type": "stream",
     "text": [
      "1\n",
      "3 3\n",
      "1 \n",
      "1\n",
      "1\n",
      "Yes\n"
     ]
    }
   ],
   "source": [
    "for _ in range(int(input())):\n",
    "    ans = \"No\"\n",
    "    nos_currency, amt_asked = [int(x) for x in input().split()]\n",
    "    currency = [int(input()) for _ in range(nos_currency)]\n",
    "    limit = (2 ** nos_currency)   \n",
    "    #print(limit)\n",
    "    for i in range(1, limit):\n",
    "        curr_sum = 0\n",
    "        #print(bin(i))\n",
    "        #sel = 0\n",
    "        for j in range(nos_currency+1):\n",
    "            if (i & (1 << j)) > 0:\n",
    "                #sel += 1\n",
    "                curr_sum += currency[j]\n",
    "        #print(i, curr_sum, sel)        \n",
    "        if curr_sum == amt_asked:\n",
    "            ans = \"Yes\"\n",
    "            break\n",
    "            \n",
    " \n",
    "    print(ans)"
   ]
  },
  {
   "cell_type": "code",
   "execution_count": 25,
   "metadata": {},
   "outputs": [
    {
     "name": "stdout",
     "output_type": "stream",
     "text": [
      "3\n",
      "1\n",
      "10\n",
      "1\n",
      "3\n",
      "8 3 6\n",
      "2\n",
      "5\n",
      "4 5 1 2 3\n",
      "2\n"
     ]
    }
   ],
   "source": [
    "'''\n",
    "3\n",
    "1\n",
    "10\n",
    "3\n",
    "8 3 6\n",
    "5\n",
    "4 5 1 2 3\n",
    "\n",
    "Output:\n",
    "1\n",
    "2\n",
    "2\n",
    "'''\n",
    "for _ in range(int(input())):\n",
    "    lens = int(input())\n",
    "    speed= [int(i) for i in input().split()]\n",
    "    max_speed = speed[0]\n",
    "    max_cars  = 1\n",
    "    for i in range(1, lens):\n",
    "        if speed[i] < max_speed:\n",
    "            max_cars += 1\n",
    "            max_speed = min(max_speed, speed[i])\n",
    "    print(max_cars)        \n",
    "    "
   ]
  },
  {
   "cell_type": "code",
   "execution_count": 31,
   "metadata": {},
   "outputs": [
    {
     "name": "stdout",
     "output_type": "stream",
     "text": [
      "3 1 3\n",
      "1 1 0\n"
     ]
    }
   ],
   "source": [
    "A, N, K = [int(x) for x in input().split()]\n",
    "answer  = []\n",
    "for i in range(K):\n",
    "    A, left = divmod(A , (N + 1))\n",
    "    answer.append(left)\n",
    "print(*answer)    "
   ]
  },
  {
   "cell_type": "code",
   "execution_count": 32,
   "metadata": {},
   "outputs": [
    {
     "name": "stdout",
     "output_type": "stream",
     "text": [
      "3\n",
      "4 7\n",
      "10 4 8 5\n",
      "-1\n",
      "1 10\n",
      "12\n",
      "1\n",
      "2 10\n",
      "20 50\n",
      "7\n"
     ]
    }
   ],
   "source": [
    "'''\n",
    "Input:\n",
    "3\n",
    "4 7\n",
    "10 4 8 5\n",
    "1 10\n",
    "12\n",
    "2 10\n",
    "20 50\n",
    "\n",
    "Output:\n",
    "-1\n",
    "1\n",
    "7\n",
    "'''\n",
    "\n",
    "for _ in range(int(input())):\n",
    "    nb_notes, amount = [int(x) for x in input().split()]\n",
    "    notes = [int(x) for x in input().split()]\n",
    "    sums  = sum(notes)\n",
    "    can_buy , balance = divmod(sums, amount)\n",
    "    if balance - min(notes)>= 0:\n",
    "        print(-1)\n",
    "    else:print(sums // amount)        "
   ]
  },
  {
   "cell_type": "code",
   "execution_count": 33,
   "metadata": {},
   "outputs": [
    {
     "name": "stdout",
     "output_type": "stream",
     "text": [
      "4\n",
      "abc\n",
      "abcdef\n",
      "3\n",
      "aA\n",
      "abAZ\n",
      "2\n",
      "aaa\n",
      "a\n",
      "1\n",
      "what\n",
      "none\n",
      "0\n"
     ]
    }
   ],
   "source": [
    "# Jewels and Stones Problem Code: STONES\n",
    "# teratau ooraj.halt@gmail.com\n",
    "'''\n",
    "4\n",
    "abc\n",
    "abcdef\n",
    "aA\n",
    "abAZ\n",
    "aaa\n",
    "a\n",
    "what\n",
    "none\n",
    "\n",
    "Output:\n",
    "3\n",
    "2\n",
    "1\n",
    "0\n",
    "'''\n",
    "for _ in range(int(input())):\n",
    "    jewels = input()\n",
    "    stones = input()\n",
    "    print(sum([1 for x in stones if x in jewels]))\n",
    "    "
   ]
  },
  {
   "cell_type": "code",
   "execution_count": 41,
   "metadata": {},
   "outputs": [
    {
     "name": "stdout",
     "output_type": "stream",
     "text": [
      "1\n",
      "1 10\n",
      "2\n",
      "3\n",
      "5\n",
      "7\n"
     ]
    }
   ],
   "source": [
    "def FermatPrimalityTest(number):\n",
    "    ''' if number != 1 '''\n",
    "    if (number > 1):\n",
    "        ''' repeat the test few times '''\n",
    "        for time in range(3):\n",
    "            ''' Draw a RANDOM number in range of number ( Z_number )  '''\n",
    "            randomNumber = random.randint(2, number)-1\n",
    "            \n",
    "            ''' Test if a^(n-1) = 1 mod n '''\n",
    "            if ( pow(randomNumber, number-1, number) != 1 ):\n",
    "                return False\n",
    "        \n",
    "        return True\n",
    "    else:\n",
    "        ''' case number == 1 '''\n",
    "        return False  \n",
    "\n",
    "for _ in range(int(input())):\n",
    "    lower, upper = [int(x) for x in input().split()]\n",
    "    for num in range(lower,upper + 1):\n",
    "       # prime numbers are greater than 1\n",
    "       if num > 1:\n",
    "           for i in range(2,num):\n",
    "               if (num % i) == 0:\n",
    "                   break\n",
    "           else:\n",
    "               print(num)"
   ]
  },
  {
   "cell_type": "code",
   "execution_count": 1,
   "metadata": {},
   "outputs": [
    {
     "name": "stdout",
     "output_type": "stream",
     "text": [
      "2\n",
      "111110\n",
      "Bad\n",
      "10101010101010\n",
      "Good\n"
     ]
    }
   ],
   "source": [
    "# Chef and Feedback Problem Code: ERROR\n",
    "for _ in range(int(input())):\n",
    "    ins = input()\n",
    "    if \"010\" in ins or \"101\" in ins:\n",
    "        print(\"Good\")\n",
    "    else:\n",
    "        print(\"Bad\")"
   ]
  },
  {
   "cell_type": "code",
   "execution_count": 2,
   "metadata": {},
   "outputs": [
    {
     "name": "stdout",
     "output_type": "stream",
     "text": [
      "2\n",
      "5 2\n",
      "8 4 5 2 10\n",
      "17\n",
      "8 3\n",
      "1 1 1 1 1 1 1 1\n",
      "2\n"
     ]
    }
   ],
   "source": [
    "# Maximum Weight Difference Problem Code: MAXDIFF\n",
    "for _ in range(int(input())):\n",
    "    lens, k = [int(i) for i in input().split()]\n",
    "    if k > lens - k:\n",
    "        k = lens - k\n",
    "    weights =  sorted([int(i) for i in input().split()])\n",
    "    print(abs(sum(weights[k:]) - sum(weights[:k])))\n",
    "    "
   ]
  },
  {
   "cell_type": "code",
   "execution_count": 7,
   "metadata": {},
   "outputs": [
    {
     "name": "stdout",
     "output_type": "stream",
     "text": [
      "5 6\n",
      "23\n",
      "30\n",
      "42\n",
      "57\n",
      "90\n",
      "21\n",
      "23\n",
      "35\n",
      "57\n",
      "90\n",
      "92\n",
      "defaultdict(<class 'list'>, {0: [23, 30, 42, 57, 90], 1: [21, 23, 35, 57, 90, 92]})\n",
      "23\n",
      "57\n",
      "90\n"
     ]
    },
    {
     "data": {
      "text/plain": [
       "'\\n5 6 5\\n23\\n30\\n42\\n57\\n90\\n21\\n23\\n35\\n57\\n90\\n92\\n21\\n23\\n30\\n57\\n90\\n'"
      ]
     },
     "execution_count": 7,
     "metadata": {},
     "output_type": "execute_result"
    }
   ],
   "source": [
    "from collections import defaultdict\n",
    "voters = defaultdict(list)\n",
    "for i, v in enumerate([int(x) for x in input().split()]):\n",
    "    for j in range(v):\n",
    "        voters[i].append(int(input()))\n",
    "#print(voters) \n",
    "counts = defaultdict(int)\n",
    "for i in voters.values():\n",
    "    for j in i:\n",
    "        counts[j] += 1\n",
    "for i,v in counts.items():\n",
    "    if v > 1:\n",
    "        answser.append(i)\n",
    "print(len(answer))        \n",
    "print(\"\\n\".join(map(str, answer)))\n",
    "        \n",
    "'''\n",
    "5 6 5\n",
    "23\n",
    "30\n",
    "42\n",
    "57\n",
    "90\n",
    "21\n",
    "23\n",
    "35\n",
    "57\n",
    "90\n",
    "92\n",
    "21\n",
    "23\n",
    "30\n",
    "57\n",
    "90\n",
    "'''  \n",
    "    "
   ]
  },
  {
   "cell_type": "code",
   "execution_count": null,
   "metadata": {},
   "outputs": [],
   "source": []
  }
 ],
 "metadata": {
  "kernelspec": {
   "display_name": "Python 3",
   "language": "python",
   "name": "python3"
  },
  "language_info": {
   "codemirror_mode": {
    "name": "ipython",
    "version": 3
   },
   "file_extension": ".py",
   "mimetype": "text/x-python",
   "name": "python",
   "nbconvert_exporter": "python",
   "pygments_lexer": "ipython3",
   "version": "3.7.3"
  }
 },
 "nbformat": 4,
 "nbformat_minor": 2
}
