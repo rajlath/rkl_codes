{
 "cells": [
  {
   "cell_type": "code",
   "execution_count": 6,
   "metadata": {},
   "outputs": [
    {
     "name": "stdout",
     "output_type": "stream",
     "text": [
      "[90, 11, -63, -23, 25, 31, 22, -42, 59, -65, -84, 1, -20, -94, -98, 67, -96, 76, 94, -97, -33, 85, 47, 55, -89, -33, 31, -79, -69, -89, -20, 16, 4, 14, -71, -8, -60, -55, -83, 70, 1, -91, -38, -16, -95, 57, 49, 22, 64, 24, -25, 47, 34, -38, -94, -21, 66, -12, -56, 13, 5, 66, -52, -16, 31, 63, -65, -95, -84, 89, -40, -58, 28, -89, -31, 19, 76, 58, 58, 67, 36, -18, -8, 63, 52, -40, -97, 12, -51, -60, -41, -67, -17, -90, -6, -34, -78, 7, 35, -16]\n",
      "5\n"
     ]
    }
   ],
   "source": [
    "import random\n",
    "def find_min_index(A):\n",
    "    '''\n",
    "    find min index in array that has a repeating element.\n",
    "    '''\n",
    "    done = set()\n",
    "    min_index = len(A) - 1\n",
    "    for i in range(len(A)-1, -1, -1):\n",
    "        if A[i] in done:\n",
    "            min_index = i\n",
    "        else:\n",
    "            done.add(A[i])\n",
    "    if min_index == len(A)-1: return -1 \n",
    "    else: return min_index            \n",
    "    \n",
    "A = [random.randint(-100, 100) for x in range(100)]\n",
    "print(A)\n",
    "print(find_min_index(A))\n"
   ]
  }
 ],
 "metadata": {
  "kernelspec": {
   "display_name": "Python 3",
   "language": "python",
   "name": "python3"
  },
  "language_info": {
   "codemirror_mode": {
    "name": "ipython",
    "version": 3
   },
   "file_extension": ".py",
   "mimetype": "text/x-python",
   "name": "python",
   "nbconvert_exporter": "python",
   "pygments_lexer": "ipython3",
   "version": "3.6.3"
  }
 },
 "nbformat": 4,
 "nbformat_minor": 2
}
